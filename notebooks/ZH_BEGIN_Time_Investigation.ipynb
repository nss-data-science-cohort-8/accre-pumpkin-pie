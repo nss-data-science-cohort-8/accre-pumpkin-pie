{
 "cells": [
  {
   "cell_type": "code",
   "execution_count": 1,
   "id": "808aa62f-38af-46cd-9651-a58f8bc64a96",
   "metadata": {},
   "outputs": [
    {
     "name": "stdout",
     "output_type": "stream",
     "text": [
      "Current working directory is C:\\Users\\Gubbz\\Documents\\NSS\\NSS_Projects\\accre-pumpkin-pie\n"
     ]
    }
   ],
   "source": [
    "import os\n",
    "os.chdir('..')\n",
    "print(f'Current working directory is {os.getcwd()}')"
   ]
  },
  {
   "cell_type": "code",
   "execution_count": 3,
   "id": "bf33e877-f262-4d4c-9248-50322a90814f",
   "metadata": {},
   "outputs": [],
   "source": [
    "import pandas as pd\n",
    "import re\n",
    "import seaborn as sns\n",
    "import matplotlib.pyplot as plt\n",
    "import datetime"
   ]
  },
  {
   "cell_type": "code",
   "execution_count": 5,
   "id": "a953017e-6da1-4a6b-96a4-a1719b19c97b",
   "metadata": {},
   "outputs": [
    {
     "data": {
      "text/html": [
       "<div>\n",
       "<style scoped>\n",
       "    .dataframe tbody tr th:only-of-type {\n",
       "        vertical-align: middle;\n",
       "    }\n",
       "\n",
       "    .dataframe tbody tr th {\n",
       "        vertical-align: top;\n",
       "    }\n",
       "\n",
       "    .dataframe thead th {\n",
       "        text-align: right;\n",
       "    }\n",
       "</style>\n",
       "<table border=\"1\" class=\"dataframe\">\n",
       "  <thead>\n",
       "    <tr style=\"text-align: right;\">\n",
       "      <th></th>\n",
       "      <th>JOBID</th>\n",
       "      <th>STATE</th>\n",
       "      <th>BEGIN</th>\n",
       "      <th>END</th>\n",
       "      <th>REQMEM</th>\n",
       "      <th>USEDMEM</th>\n",
       "      <th>REQTIME</th>\n",
       "      <th>USEDTIME</th>\n",
       "      <th>NODES</th>\n",
       "      <th>CPUS</th>\n",
       "      <th>PARTITION</th>\n",
       "      <th>EXITCODE</th>\n",
       "    </tr>\n",
       "  </thead>\n",
       "  <tbody>\n",
       "    <tr>\n",
       "      <th>0</th>\n",
       "      <td>30616928</td>\n",
       "      <td>RUNNING</td>\n",
       "      <td>2021-07-31T22:15:00</td>\n",
       "      <td>Unknown</td>\n",
       "      <td>2048Mn</td>\n",
       "      <td>0</td>\n",
       "      <td>10:04:00</td>\n",
       "      <td>67-22:14:22</td>\n",
       "      <td>1</td>\n",
       "      <td>1</td>\n",
       "      <td>production</td>\n",
       "      <td>0:0</td>\n",
       "    </tr>\n",
       "    <tr>\n",
       "      <th>1</th>\n",
       "      <td>30853133</td>\n",
       "      <td>COMPLETED</td>\n",
       "      <td>2021-08-06T11:36:09</td>\n",
       "      <td>2021-09-05T11:36:32</td>\n",
       "      <td>262144Mn</td>\n",
       "      <td>20604.62M</td>\n",
       "      <td>30-00:00:00</td>\n",
       "      <td>30-00:00:23</td>\n",
       "      <td>1</td>\n",
       "      <td>1</td>\n",
       "      <td>cgw-platypus</td>\n",
       "      <td>0:0</td>\n",
       "    </tr>\n",
       "    <tr>\n",
       "      <th>2</th>\n",
       "      <td>30858137</td>\n",
       "      <td>COMPLETED</td>\n",
       "      <td>2021-08-06T19:04:39</td>\n",
       "      <td>2021-09-05T19:04:53</td>\n",
       "      <td>204800Mn</td>\n",
       "      <td>57553.77M</td>\n",
       "      <td>30-00:00:00</td>\n",
       "      <td>30-00:00:14</td>\n",
       "      <td>1</td>\n",
       "      <td>32</td>\n",
       "      <td>cgw-tbi01</td>\n",
       "      <td>0:0</td>\n",
       "    </tr>\n",
       "    <tr>\n",
       "      <th>3</th>\n",
       "      <td>30935078</td>\n",
       "      <td>COMPLETED</td>\n",
       "      <td>2021-08-09T16:52:51</td>\n",
       "      <td>2021-09-07T20:52:55</td>\n",
       "      <td>65536Mn</td>\n",
       "      <td>20577.96M</td>\n",
       "      <td>29-04:00:00</td>\n",
       "      <td>29-04:00:04</td>\n",
       "      <td>1</td>\n",
       "      <td>8</td>\n",
       "      <td>cgw-platypus</td>\n",
       "      <td>0:0</td>\n",
       "    </tr>\n",
       "    <tr>\n",
       "      <th>4</th>\n",
       "      <td>31364111_2</td>\n",
       "      <td>COMPLETED</td>\n",
       "      <td>2021-08-17T07:45:07</td>\n",
       "      <td>2021-09-10T16:45:24</td>\n",
       "      <td>16384Mn</td>\n",
       "      <td>9733.43M</td>\n",
       "      <td>24-09:00:00</td>\n",
       "      <td>24-09:00:17</td>\n",
       "      <td>1</td>\n",
       "      <td>1</td>\n",
       "      <td>production</td>\n",
       "      <td>0:0</td>\n",
       "    </tr>\n",
       "  </tbody>\n",
       "</table>\n",
       "</div>"
      ],
      "text/plain": [
       "        JOBID      STATE                BEGIN                  END    REQMEM  \\\n",
       "0    30616928    RUNNING  2021-07-31T22:15:00              Unknown    2048Mn   \n",
       "1    30853133  COMPLETED  2021-08-06T11:36:09  2021-09-05T11:36:32  262144Mn   \n",
       "2    30858137  COMPLETED  2021-08-06T19:04:39  2021-09-05T19:04:53  204800Mn   \n",
       "3    30935078  COMPLETED  2021-08-09T16:52:51  2021-09-07T20:52:55   65536Mn   \n",
       "4  31364111_2  COMPLETED  2021-08-17T07:45:07  2021-09-10T16:45:24   16384Mn   \n",
       "\n",
       "     USEDMEM      REQTIME     USEDTIME  NODES  CPUS     PARTITION EXITCODE  \n",
       "0          0     10:04:00  67-22:14:22      1     1    production      0:0  \n",
       "1  20604.62M  30-00:00:00  30-00:00:23      1     1  cgw-platypus      0:0  \n",
       "2  57553.77M  30-00:00:00  30-00:00:14      1    32     cgw-tbi01      0:0  \n",
       "3  20577.96M  29-04:00:00  29-04:00:04      1     8  cgw-platypus      0:0  \n",
       "4   9733.43M  24-09:00:00  24-09:00:17      1     1    production      0:0  "
      ]
     },
     "execution_count": 5,
     "metadata": {},
     "output_type": "execute_result"
    }
   ],
   "source": [
    "jobs = pd.read_csv(\"data/fullsample.csv\")\n",
    "jobs.head(5)"
   ]
  },
  {
   "cell_type": "code",
   "execution_count": 7,
   "id": "72695dbe-686d-4282-89a1-30000154e276",
   "metadata": {},
   "outputs": [],
   "source": [
    "jobs = pd.read_csv(\"data/fullsample.csv\", usecols=['JOBID','STATE','BEGIN','END','EXITCODE','USEDMEM'])"
   ]
  },
  {
   "cell_type": "code",
   "execution_count": 9,
   "id": "1639933d-cea1-4786-b079-22c12a042de7",
   "metadata": {},
   "outputs": [],
   "source": [
    "jobs_filtered = jobs[(jobs['STATE'] == 'COMPLETED') | (jobs['STATE'] == 'FAILED')].copy()"
   ]
  },
  {
   "cell_type": "code",
   "execution_count": 15,
   "id": "292e8031-f550-4289-be6e-0cd636902963",
   "metadata": {},
   "outputs": [
    {
     "data": {
      "text/html": [
       "<div>\n",
       "<style scoped>\n",
       "    .dataframe tbody tr th:only-of-type {\n",
       "        vertical-align: middle;\n",
       "    }\n",
       "\n",
       "    .dataframe tbody tr th {\n",
       "        vertical-align: top;\n",
       "    }\n",
       "\n",
       "    .dataframe thead th {\n",
       "        text-align: right;\n",
       "    }\n",
       "</style>\n",
       "<table border=\"1\" class=\"dataframe\">\n",
       "  <thead>\n",
       "    <tr style=\"text-align: right;\">\n",
       "      <th></th>\n",
       "      <th>JOBID</th>\n",
       "      <th>STATE</th>\n",
       "      <th>BEGIN</th>\n",
       "      <th>END</th>\n",
       "      <th>USEDMEM</th>\n",
       "      <th>EXITCODE</th>\n",
       "    </tr>\n",
       "  </thead>\n",
       "  <tbody>\n",
       "    <tr>\n",
       "      <th>1</th>\n",
       "      <td>30853133</td>\n",
       "      <td>COMPLETED</td>\n",
       "      <td>2021-08-06 11:36:09</td>\n",
       "      <td>2021-09-05 11:36:32</td>\n",
       "      <td>20604.62M</td>\n",
       "      <td>0:0</td>\n",
       "    </tr>\n",
       "    <tr>\n",
       "      <th>2</th>\n",
       "      <td>30858137</td>\n",
       "      <td>COMPLETED</td>\n",
       "      <td>2021-08-06 19:04:39</td>\n",
       "      <td>2021-09-05 19:04:53</td>\n",
       "      <td>57553.77M</td>\n",
       "      <td>0:0</td>\n",
       "    </tr>\n",
       "    <tr>\n",
       "      <th>3</th>\n",
       "      <td>30935078</td>\n",
       "      <td>COMPLETED</td>\n",
       "      <td>2021-08-09 16:52:51</td>\n",
       "      <td>2021-09-07 20:52:55</td>\n",
       "      <td>20577.96M</td>\n",
       "      <td>0:0</td>\n",
       "    </tr>\n",
       "    <tr>\n",
       "      <th>4</th>\n",
       "      <td>31364111_2</td>\n",
       "      <td>COMPLETED</td>\n",
       "      <td>2021-08-17 07:45:07</td>\n",
       "      <td>2021-09-10 16:45:24</td>\n",
       "      <td>9733.43M</td>\n",
       "      <td>0:0</td>\n",
       "    </tr>\n",
       "    <tr>\n",
       "      <th>5</th>\n",
       "      <td>31364111_3</td>\n",
       "      <td>COMPLETED</td>\n",
       "      <td>2021-08-17 07:45:07</td>\n",
       "      <td>2021-09-06 16:17:34</td>\n",
       "      <td>9708.04M</td>\n",
       "      <td>0:0</td>\n",
       "    </tr>\n",
       "  </tbody>\n",
       "</table>\n",
       "</div>"
      ],
      "text/plain": [
       "        JOBID      STATE               BEGIN                 END    USEDMEM  \\\n",
       "1    30853133  COMPLETED 2021-08-06 11:36:09 2021-09-05 11:36:32  20604.62M   \n",
       "2    30858137  COMPLETED 2021-08-06 19:04:39 2021-09-05 19:04:53  57553.77M   \n",
       "3    30935078  COMPLETED 2021-08-09 16:52:51 2021-09-07 20:52:55  20577.96M   \n",
       "4  31364111_2  COMPLETED 2021-08-17 07:45:07 2021-09-10 16:45:24   9733.43M   \n",
       "5  31364111_3  COMPLETED 2021-08-17 07:45:07 2021-09-06 16:17:34   9708.04M   \n",
       "\n",
       "  EXITCODE  \n",
       "1      0:0  \n",
       "2      0:0  \n",
       "3      0:0  \n",
       "4      0:0  \n",
       "5      0:0  "
      ]
     },
     "execution_count": 15,
     "metadata": {},
     "output_type": "execute_result"
    }
   ],
   "source": [
    "jobs_filtered['BEGIN'] = jobs_filtered['BEGIN'].str.replace('T', ' ')\n",
    "jobs_filtered['BEGIN'] = pd.to_datetime(jobs_filtered['BEGIN'], format = \"%Y-%m-%d %H:%M:%S\")\n",
    "jobs_filtered.head(5)"
   ]
  },
  {
   "cell_type": "code",
   "execution_count": 16,
   "id": "5269ef54-6873-4dee-bce2-ba437880c35f",
   "metadata": {},
   "outputs": [],
   "source": [
    "# High failures seen for 9204 between 2020-12-02 and 2021-01-01\n",
    "start_date_high = pd.to_datetime('2020-12-02').date()\n",
    "end_time_high = pd.to_datetime('2020-12-09').date()\n",
    "\n",
    "high_failures_df = jobs_filtered[(jobs_filtered['BEGIN'].dt.date >= start_date_high) & (jobs_filtered['BEGIN'].dt.date <= end_time_high)].reset_index(drop=True)"
   ]
  },
  {
   "cell_type": "code",
   "execution_count": 29,
   "id": "af4cb49d-e249-4a7d-9e36-456150c3f21f",
   "metadata": {},
   "outputs": [],
   "source": [
    "date_high = pd.to_datetime('2020-12-04').date()\n",
    "high_failures_day_df = jobs_filtered[jobs_filtered['BEGIN'].dt.date == date_high]"
   ]
  },
  {
   "cell_type": "code",
   "execution_count": null,
   "id": "40737647-e8ef-4397-8e93-663b5f321674",
   "metadata": {},
   "outputs": [],
   "source": [
    "start_date_low = pd.to_datetime('2021-08-21').date()\n",
    "end_time_low = pd.to_datetime('2021-08-28').date()\n",
    "\n",
    "low_failures_df = jobs_filtered[(jobs_filtered['BEGIN'].dt.date >= start_date_low) & (jobs_filtered['BEGIN'].dt.date <= end_time_low)].reset_index(drop=True)"
   ]
  },
  {
   "cell_type": "code",
   "execution_count": 31,
   "id": "40e908f0-755d-4e84-a56d-334193fb5328",
   "metadata": {},
   "outputs": [],
   "source": [
    "date_low = pd.to_datetime('2021-03-23').date()\n",
    "low_failures_day_df = jobs_filtered[jobs_filtered['BEGIN'].dt.date == date_low]"
   ]
  },
  {
   "cell_type": "code",
   "execution_count": 27,
   "id": "94837525-3f49-4ac3-9c91-97be3f3913ab",
   "metadata": {},
   "outputs": [
    {
     "data": {
      "text/plain": [
       "(140664, 6)"
      ]
     },
     "metadata": {},
     "output_type": "display_data"
    },
    {
     "data": {
      "text/plain": [
       "(256362, 6)"
      ]
     },
     "metadata": {},
     "output_type": "display_data"
    }
   ],
   "source": [
    "display(high_failures_df.shape)\n",
    "display(low_failures_df.shape)"
   ]
  },
  {
   "cell_type": "code",
   "execution_count": 33,
   "id": "9d0ab3aa-1be3-43d6-8127-afc76cdad294",
   "metadata": {},
   "outputs": [
    {
     "data": {
      "text/plain": [
       "(16171, 6)"
      ]
     },
     "metadata": {},
     "output_type": "display_data"
    },
    {
     "data": {
      "text/plain": [
       "(20392, 6)"
      ]
     },
     "metadata": {},
     "output_type": "display_data"
    }
   ],
   "source": [
    "display(high_failures_day_df.shape)\n",
    "display(low_failures_day_df.shape)"
   ]
  },
  {
   "cell_type": "code",
   "execution_count": 35,
   "id": "1d57c026-bf4b-49fa-a544-9a5baf0d45f4",
   "metadata": {},
   "outputs": [],
   "source": [
    "typical_day_count = jobs_filtered.groupby([jobs_filtered['BEGIN'].dt.date, jobs_filtered['BEGIN'].dt.hour]).agg({'JOBID':'count'})\n",
    "typical_day_count.index.names = ['Date', 'Hour']"
   ]
  },
  {
   "cell_type": "code",
   "execution_count": 37,
   "id": "ead1ae09-7703-4f7d-af31-38719e45b8fa",
   "metadata": {},
   "outputs": [
    {
     "data": {
      "text/html": [
       "<div>\n",
       "<style scoped>\n",
       "    .dataframe tbody tr th:only-of-type {\n",
       "        vertical-align: middle;\n",
       "    }\n",
       "\n",
       "    .dataframe tbody tr th {\n",
       "        vertical-align: top;\n",
       "    }\n",
       "\n",
       "    .dataframe thead th {\n",
       "        text-align: right;\n",
       "    }\n",
       "</style>\n",
       "<table border=\"1\" class=\"dataframe\">\n",
       "  <thead>\n",
       "    <tr style=\"text-align: right;\">\n",
       "      <th></th>\n",
       "      <th></th>\n",
       "      <th>JOBID</th>\n",
       "    </tr>\n",
       "    <tr>\n",
       "      <th>Date</th>\n",
       "      <th>Hour</th>\n",
       "      <th></th>\n",
       "    </tr>\n",
       "  </thead>\n",
       "  <tbody>\n",
       "    <tr>\n",
       "      <th rowspan=\"5\" valign=\"top\">2020-10-01</th>\n",
       "      <th>0</th>\n",
       "      <td>773</td>\n",
       "    </tr>\n",
       "    <tr>\n",
       "      <th>1</th>\n",
       "      <td>1135</td>\n",
       "    </tr>\n",
       "    <tr>\n",
       "      <th>2</th>\n",
       "      <td>1038</td>\n",
       "    </tr>\n",
       "    <tr>\n",
       "      <th>3</th>\n",
       "      <td>1107</td>\n",
       "    </tr>\n",
       "    <tr>\n",
       "      <th>4</th>\n",
       "      <td>1390</td>\n",
       "    </tr>\n",
       "    <tr>\n",
       "      <th>...</th>\n",
       "      <th>...</th>\n",
       "      <td>...</td>\n",
       "    </tr>\n",
       "    <tr>\n",
       "      <th rowspan=\"5\" valign=\"top\">2021-10-07</th>\n",
       "      <th>16</th>\n",
       "      <td>8</td>\n",
       "    </tr>\n",
       "    <tr>\n",
       "      <th>17</th>\n",
       "      <td>8</td>\n",
       "    </tr>\n",
       "    <tr>\n",
       "      <th>18</th>\n",
       "      <td>8</td>\n",
       "    </tr>\n",
       "    <tr>\n",
       "      <th>19</th>\n",
       "      <td>8</td>\n",
       "    </tr>\n",
       "    <tr>\n",
       "      <th>20</th>\n",
       "      <td>6</td>\n",
       "    </tr>\n",
       "  </tbody>\n",
       "</table>\n",
       "<p>8921 rows × 1 columns</p>\n",
       "</div>"
      ],
      "text/plain": [
       "                 JOBID\n",
       "Date       Hour       \n",
       "2020-10-01 0       773\n",
       "           1      1135\n",
       "           2      1038\n",
       "           3      1107\n",
       "           4      1390\n",
       "...                ...\n",
       "2021-10-07 16        8\n",
       "           17        8\n",
       "           18        8\n",
       "           19        8\n",
       "           20        6\n",
       "\n",
       "[8921 rows x 1 columns]"
      ]
     },
     "execution_count": 37,
     "metadata": {},
     "output_type": "execute_result"
    }
   ],
   "source": [
    "typical_day_count"
   ]
  },
  {
   "cell_type": "code",
   "execution_count": 39,
   "id": "bc704761-1a09-4bee-9aa2-18071f0eed43",
   "metadata": {},
   "outputs": [
    {
     "data": {
      "text/html": [
       "<div>\n",
       "<style scoped>\n",
       "    .dataframe tbody tr th:only-of-type {\n",
       "        vertical-align: middle;\n",
       "    }\n",
       "\n",
       "    .dataframe tbody tr th {\n",
       "        vertical-align: top;\n",
       "    }\n",
       "\n",
       "    .dataframe thead th {\n",
       "        text-align: right;\n",
       "    }\n",
       "</style>\n",
       "<table border=\"1\" class=\"dataframe\">\n",
       "  <thead>\n",
       "    <tr style=\"text-align: right;\">\n",
       "      <th></th>\n",
       "      <th>JOBID</th>\n",
       "    </tr>\n",
       "  </thead>\n",
       "  <tbody>\n",
       "    <tr>\n",
       "      <th>count</th>\n",
       "      <td>8921.000000</td>\n",
       "    </tr>\n",
       "    <tr>\n",
       "      <th>mean</th>\n",
       "      <td>827.132608</td>\n",
       "    </tr>\n",
       "    <tr>\n",
       "      <th>std</th>\n",
       "      <td>1210.425794</td>\n",
       "    </tr>\n",
       "    <tr>\n",
       "      <th>min</th>\n",
       "      <td>3.000000</td>\n",
       "    </tr>\n",
       "    <tr>\n",
       "      <th>25%</th>\n",
       "      <td>207.000000</td>\n",
       "    </tr>\n",
       "    <tr>\n",
       "      <th>50%</th>\n",
       "      <td>474.000000</td>\n",
       "    </tr>\n",
       "    <tr>\n",
       "      <th>75%</th>\n",
       "      <td>951.000000</td>\n",
       "    </tr>\n",
       "    <tr>\n",
       "      <th>max</th>\n",
       "      <td>13671.000000</td>\n",
       "    </tr>\n",
       "  </tbody>\n",
       "</table>\n",
       "</div>"
      ],
      "text/plain": [
       "              JOBID\n",
       "count   8921.000000\n",
       "mean     827.132608\n",
       "std     1210.425794\n",
       "min        3.000000\n",
       "25%      207.000000\n",
       "50%      474.000000\n",
       "75%      951.000000\n",
       "max    13671.000000"
      ]
     },
     "execution_count": 39,
     "metadata": {},
     "output_type": "execute_result"
    }
   ],
   "source": [
    "typical_day_count.describe()"
   ]
  },
  {
   "cell_type": "code",
   "execution_count": 41,
   "id": "9dadd9af-0ef7-4f8e-823d-61e3322b1690",
   "metadata": {},
   "outputs": [
    {
     "data": {
      "text/plain": [
       "<Axes: xlabel='JOBID', ylabel='Count'>"
      ]
     },
     "execution_count": 41,
     "metadata": {},
     "output_type": "execute_result"
    },
    {
     "data": {
      "image/png": "[encoded data removed]",
      "text/plain": [
       "<Figure size 640x480 with 1 Axes>"
      ]
     },
     "metadata": {},
     "output_type": "display_data"
    }
   ],
   "source": [
    "sns.histplot(data = typical_day_count, x='JOBID')"
   ]
  },
  {
   "cell_type": "code",
   "execution_count": 59,
   "id": "8570c593-f31a-429f-be92-a4ece9bc6d43",
   "metadata": {},
   "outputs": [
    {
     "data": {
      "text/plain": [
       "JOBID    673.791667\n",
       "dtype: float64"
      ]
     },
     "execution_count": 59,
     "metadata": {},
     "output_type": "execute_result"
    }
   ],
   "source": [
    "typical_day_count.loc[datetime.date(2020,12,4)].mean()"
   ]
  },
  {
   "cell_type": "code",
   "execution_count": 57,
   "id": "e8ba9008-fd29-450f-a6b6-840b449246ca",
   "metadata": {},
   "outputs": [
    {
     "data": {
      "text/plain": [
       "JOBID    849.666667\n",
       "dtype: float64"
      ]
     },
     "execution_count": 57,
     "metadata": {},
     "output_type": "execute_result"
    }
   ],
   "source": [
    "typical_day_count.loc[datetime.date(2021,3,23)].mean()"
   ]
  },
  {
   "cell_type": "code",
   "execution_count": null,
   "id": "ba0224c1-cca2-44c0-b677-0950d9278acf",
   "metadata": {},
   "outputs": [],
   "source": []
  }
 ],
 "metadata": {
  "kernelspec": {
   "display_name": "Python 3 (ipykernel)",
   "language": "python",
   "name": "python3"
  },
  "language_info": {
   "codemirror_mode": {
    "name": "ipython",
    "version": 3
   },
   "file_extension": ".py",
   "mimetype": "text/x-python",
   "name": "python",
   "nbconvert_exporter": "python",
   "pygments_lexer": "ipython3",
   "version": "3.12.4"
  }
 },
 "nbformat": 4,
 "nbformat_minor": 5
}
