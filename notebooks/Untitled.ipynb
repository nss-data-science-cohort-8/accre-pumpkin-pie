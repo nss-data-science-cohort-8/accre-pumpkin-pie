{
 "cells": [
  {
   "cell_type": "code",
   "execution_count": 3,
   "id": "991be68e-07c5-4b6b-b88e-4e4b1d8efba2",
   "metadata": {},
   "outputs": [
    {
     "name": "stdout",
     "output_type": "stream",
     "text": [
      "Current working directory is C:\\Users\\Gubbz\\Documents\\NSS\\NSS_Projects\\accre-pumpkin-pie\n"
     ]
    }
   ],
   "source": [
    "import os\n",
    "os.chdir('..')\n",
    "print(f'Current working directory is {os.getcwd()}')"
   ]
  },
  {
   "cell_type": "code",
   "execution_count": 5,
   "id": "104ea219-ef52-430f-a271-80f1436dcfe4",
   "metadata": {},
   "outputs": [],
   "source": [
    "import pandas as pd\n",
    "import re\n",
    "import seaborn as sns\n",
    "import matplotlib.pyplot as plt\n",
    "import datetime"
   ]
  },
  {
   "cell_type": "code",
   "execution_count": 7,
   "id": "2b2049bf-3d36-441c-89d5-7fffecfefb31",
   "metadata": {},
   "outputs": [],
   "source": [
    "jobs = pd.read_csv(\"data/fullsample.csv\", usecols=['JOBID','STATE','BEGIN','END','EXITCODE','USEDMEM'])"
   ]
  },
  {
   "cell_type": "code",
   "execution_count": null,
   "id": "5f650306-292f-4f8d-b540-5b4fcb9598bd",
   "metadata": {},
   "outputs": [],
   "source": []
  }
 ],
 "metadata": {
  "kernelspec": {
   "display_name": "Python 3 (ipykernel)",
   "language": "python",
   "name": "python3"
  },
  "language_info": {
   "codemirror_mode": {
    "name": "ipython",
    "version": 3
   },
   "file_extension": ".py",
   "mimetype": "text/x-python",
   "name": "python",
   "nbconvert_exporter": "python",
   "pygments_lexer": "ipython3",
   "version": "3.12.4"
  }
 },
 "nbformat": 4,
 "nbformat_minor": 5
}
