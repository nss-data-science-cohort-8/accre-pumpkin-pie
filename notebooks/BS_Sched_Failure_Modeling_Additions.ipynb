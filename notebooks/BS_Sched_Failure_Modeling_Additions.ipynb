{
 "cells": [
  {
   "cell_type": "code",
   "execution_count": 1,
   "id": "9ac24f51-f981-4017-b444-77f119c5a5cd",
   "metadata": {},
   "outputs": [
    {
     "name": "stdout",
     "output_type": "stream",
     "text": [
      "Current working directory is C:\\Users\\solid\\Documents\\NSS_Projects\\accre-pumpkin-pie\n"
     ]
    }
   ],
   "source": [
    "import os\n",
    "os.chdir('..')\n",
    "print(f'Current working directory is {os.getcwd()}')"
   ]
  },
  {
   "cell_type": "code",
   "execution_count": 2,
   "id": "31a241e6-cbfe-431e-a1aa-e159c4817ba9",
   "metadata": {},
   "outputs": [],
   "source": [
    "import pandas as pd\n",
    "import re\n",
    "import seaborn as sns\n",
    "import matplotlib.pyplot as plt\n",
    "import datetime"
   ]
  },
  {
   "cell_type": "code",
   "execution_count": 3,
   "id": "c17d59ec-8d9e-4e50-928b-2c83e3262977",
   "metadata": {},
   "outputs": [
    {
     "data": {
      "text/html": [
       "<div>\n",
       "<style scoped>\n",
       "    .dataframe tbody tr th:only-of-type {\n",
       "        vertical-align: middle;\n",
       "    }\n",
       "\n",
       "    .dataframe tbody tr th {\n",
       "        vertical-align: top;\n",
       "    }\n",
       "\n",
       "    .dataframe thead th {\n",
       "        text-align: right;\n",
       "    }\n",
       "</style>\n",
       "<table border=\"1\" class=\"dataframe\">\n",
       "  <thead>\n",
       "    <tr style=\"text-align: right;\">\n",
       "      <th></th>\n",
       "      <th>JOBID</th>\n",
       "      <th>STATE</th>\n",
       "      <th>BEGIN</th>\n",
       "      <th>END</th>\n",
       "      <th>REQMEM</th>\n",
       "      <th>USEDMEM</th>\n",
       "      <th>REQTIME</th>\n",
       "      <th>USEDTIME</th>\n",
       "      <th>NODES</th>\n",
       "      <th>CPUS</th>\n",
       "      <th>PARTITION</th>\n",
       "      <th>EXITCODE</th>\n",
       "    </tr>\n",
       "  </thead>\n",
       "  <tbody>\n",
       "    <tr>\n",
       "      <th>0</th>\n",
       "      <td>30616928</td>\n",
       "      <td>RUNNING</td>\n",
       "      <td>2021-07-31T22:15:00</td>\n",
       "      <td>Unknown</td>\n",
       "      <td>2048Mn</td>\n",
       "      <td>0</td>\n",
       "      <td>10:04:00</td>\n",
       "      <td>67-22:14:22</td>\n",
       "      <td>1</td>\n",
       "      <td>1</td>\n",
       "      <td>production</td>\n",
       "      <td>0:0</td>\n",
       "    </tr>\n",
       "    <tr>\n",
       "      <th>1</th>\n",
       "      <td>30853133</td>\n",
       "      <td>COMPLETED</td>\n",
       "      <td>2021-08-06T11:36:09</td>\n",
       "      <td>2021-09-05T11:36:32</td>\n",
       "      <td>262144Mn</td>\n",
       "      <td>20604.62M</td>\n",
       "      <td>30-00:00:00</td>\n",
       "      <td>30-00:00:23</td>\n",
       "      <td>1</td>\n",
       "      <td>1</td>\n",
       "      <td>cgw-platypus</td>\n",
       "      <td>0:0</td>\n",
       "    </tr>\n",
       "    <tr>\n",
       "      <th>2</th>\n",
       "      <td>30858137</td>\n",
       "      <td>COMPLETED</td>\n",
       "      <td>2021-08-06T19:04:39</td>\n",
       "      <td>2021-09-05T19:04:53</td>\n",
       "      <td>204800Mn</td>\n",
       "      <td>57553.77M</td>\n",
       "      <td>30-00:00:00</td>\n",
       "      <td>30-00:00:14</td>\n",
       "      <td>1</td>\n",
       "      <td>32</td>\n",
       "      <td>cgw-tbi01</td>\n",
       "      <td>0:0</td>\n",
       "    </tr>\n",
       "    <tr>\n",
       "      <th>3</th>\n",
       "      <td>30935078</td>\n",
       "      <td>COMPLETED</td>\n",
       "      <td>2021-08-09T16:52:51</td>\n",
       "      <td>2021-09-07T20:52:55</td>\n",
       "      <td>65536Mn</td>\n",
       "      <td>20577.96M</td>\n",
       "      <td>29-04:00:00</td>\n",
       "      <td>29-04:00:04</td>\n",
       "      <td>1</td>\n",
       "      <td>8</td>\n",
       "      <td>cgw-platypus</td>\n",
       "      <td>0:0</td>\n",
       "    </tr>\n",
       "    <tr>\n",
       "      <th>4</th>\n",
       "      <td>31364111_2</td>\n",
       "      <td>COMPLETED</td>\n",
       "      <td>2021-08-17T07:45:07</td>\n",
       "      <td>2021-09-10T16:45:24</td>\n",
       "      <td>16384Mn</td>\n",
       "      <td>9733.43M</td>\n",
       "      <td>24-09:00:00</td>\n",
       "      <td>24-09:00:17</td>\n",
       "      <td>1</td>\n",
       "      <td>1</td>\n",
       "      <td>production</td>\n",
       "      <td>0:0</td>\n",
       "    </tr>\n",
       "  </tbody>\n",
       "</table>\n",
       "</div>"
      ],
      "text/plain": [
       "        JOBID      STATE                BEGIN                  END    REQMEM  \\\n",
       "0    30616928    RUNNING  2021-07-31T22:15:00              Unknown    2048Mn   \n",
       "1    30853133  COMPLETED  2021-08-06T11:36:09  2021-09-05T11:36:32  262144Mn   \n",
       "2    30858137  COMPLETED  2021-08-06T19:04:39  2021-09-05T19:04:53  204800Mn   \n",
       "3    30935078  COMPLETED  2021-08-09T16:52:51  2021-09-07T20:52:55   65536Mn   \n",
       "4  31364111_2  COMPLETED  2021-08-17T07:45:07  2021-09-10T16:45:24   16384Mn   \n",
       "\n",
       "     USEDMEM      REQTIME     USEDTIME  NODES  CPUS     PARTITION EXITCODE  \n",
       "0          0     10:04:00  67-22:14:22      1     1    production      0:0  \n",
       "1  20604.62M  30-00:00:00  30-00:00:23      1     1  cgw-platypus      0:0  \n",
       "2  57553.77M  30-00:00:00  30-00:00:14      1    32     cgw-tbi01      0:0  \n",
       "3  20577.96M  29-04:00:00  29-04:00:04      1     8  cgw-platypus      0:0  \n",
       "4   9733.43M  24-09:00:00  24-09:00:17      1     1    production      0:0  "
      ]
     },
     "execution_count": 3,
     "metadata": {},
     "output_type": "execute_result"
    }
   ],
   "source": [
    "jobs = pd.read_csv(\"data/fullsample (1).csv\")\n",
    "jobs.head(5)"
   ]
  },
  {
   "cell_type": "code",
   "execution_count": 4,
   "id": "2e25bf50-c4ee-4e9f-9d1e-342d94dff81f",
   "metadata": {},
   "outputs": [],
   "source": [
    "#\"%Y/%m/%d %H:%M:%S\""
   ]
  },
  {
   "cell_type": "code",
   "execution_count": 5,
   "id": "0e4fbdd8-58f3-4847-826d-872deb9208b7",
   "metadata": {},
   "outputs": [],
   "source": [
    "jobs = pd.read_csv(\"data/fullsample (1).csv\", usecols=['JOBID','STATE','BEGIN','END','EXITCODE','REQMEM','USEDMEM','REQTIME','USEDTIME', 'NODES', 'CPUS'])"
   ]
  },
  {
   "cell_type": "code",
   "execution_count": 6,
   "id": "1da380db-c9fa-4e68-91c0-2c2002da67d1",
   "metadata": {},
   "outputs": [],
   "source": [
    "jobs_filtered = jobs[(jobs['STATE'] == 'COMPLETED') | (jobs['STATE'] == 'FAILED')].copy()"
   ]
  },
  {
   "cell_type": "code",
   "execution_count": 7,
   "id": "cfa151fa-79a4-407f-8abb-2855b1fefd5b",
   "metadata": {},
   "outputs": [
    {
     "data": {
      "text/html": [
       "<div>\n",
       "<style scoped>\n",
       "    .dataframe tbody tr th:only-of-type {\n",
       "        vertical-align: middle;\n",
       "    }\n",
       "\n",
       "    .dataframe tbody tr th {\n",
       "        vertical-align: top;\n",
       "    }\n",
       "\n",
       "    .dataframe thead th {\n",
       "        text-align: right;\n",
       "    }\n",
       "</style>\n",
       "<table border=\"1\" class=\"dataframe\">\n",
       "  <thead>\n",
       "    <tr style=\"text-align: right;\">\n",
       "      <th></th>\n",
       "      <th>JOBID</th>\n",
       "      <th>STATE</th>\n",
       "      <th>BEGIN</th>\n",
       "      <th>END</th>\n",
       "      <th>REQMEM</th>\n",
       "      <th>USEDMEM</th>\n",
       "      <th>REQTIME</th>\n",
       "      <th>USEDTIME</th>\n",
       "      <th>NODES</th>\n",
       "      <th>CPUS</th>\n",
       "      <th>EXITCODE</th>\n",
       "    </tr>\n",
       "  </thead>\n",
       "  <tbody>\n",
       "    <tr>\n",
       "      <th>1</th>\n",
       "      <td>30853133</td>\n",
       "      <td>COMPLETED</td>\n",
       "      <td>2021-08-06T11:36:09</td>\n",
       "      <td>2021-09-05 11:36:32</td>\n",
       "      <td>262144Mn</td>\n",
       "      <td>20604.62M</td>\n",
       "      <td>30-00:00:00</td>\n",
       "      <td>30-00:00:23</td>\n",
       "      <td>1</td>\n",
       "      <td>1</td>\n",
       "      <td>0:0</td>\n",
       "    </tr>\n",
       "    <tr>\n",
       "      <th>2</th>\n",
       "      <td>30858137</td>\n",
       "      <td>COMPLETED</td>\n",
       "      <td>2021-08-06T19:04:39</td>\n",
       "      <td>2021-09-05 19:04:53</td>\n",
       "      <td>204800Mn</td>\n",
       "      <td>57553.77M</td>\n",
       "      <td>30-00:00:00</td>\n",
       "      <td>30-00:00:14</td>\n",
       "      <td>1</td>\n",
       "      <td>32</td>\n",
       "      <td>0:0</td>\n",
       "    </tr>\n",
       "    <tr>\n",
       "      <th>3</th>\n",
       "      <td>30935078</td>\n",
       "      <td>COMPLETED</td>\n",
       "      <td>2021-08-09T16:52:51</td>\n",
       "      <td>2021-09-07 20:52:55</td>\n",
       "      <td>65536Mn</td>\n",
       "      <td>20577.96M</td>\n",
       "      <td>29-04:00:00</td>\n",
       "      <td>29-04:00:04</td>\n",
       "      <td>1</td>\n",
       "      <td>8</td>\n",
       "      <td>0:0</td>\n",
       "    </tr>\n",
       "    <tr>\n",
       "      <th>4</th>\n",
       "      <td>31364111_2</td>\n",
       "      <td>COMPLETED</td>\n",
       "      <td>2021-08-17T07:45:07</td>\n",
       "      <td>2021-09-10 16:45:24</td>\n",
       "      <td>16384Mn</td>\n",
       "      <td>9733.43M</td>\n",
       "      <td>24-09:00:00</td>\n",
       "      <td>24-09:00:17</td>\n",
       "      <td>1</td>\n",
       "      <td>1</td>\n",
       "      <td>0:0</td>\n",
       "    </tr>\n",
       "    <tr>\n",
       "      <th>5</th>\n",
       "      <td>31364111_3</td>\n",
       "      <td>COMPLETED</td>\n",
       "      <td>2021-08-17T07:45:07</td>\n",
       "      <td>2021-09-06 16:17:34</td>\n",
       "      <td>16384Mn</td>\n",
       "      <td>9708.04M</td>\n",
       "      <td>24-09:00:00</td>\n",
       "      <td>20-08:32:27</td>\n",
       "      <td>1</td>\n",
       "      <td>1</td>\n",
       "      <td>0:0</td>\n",
       "    </tr>\n",
       "  </tbody>\n",
       "</table>\n",
       "</div>"
      ],
      "text/plain": [
       "        JOBID      STATE                BEGIN                 END    REQMEM  \\\n",
       "1    30853133  COMPLETED  2021-08-06T11:36:09 2021-09-05 11:36:32  262144Mn   \n",
       "2    30858137  COMPLETED  2021-08-06T19:04:39 2021-09-05 19:04:53  204800Mn   \n",
       "3    30935078  COMPLETED  2021-08-09T16:52:51 2021-09-07 20:52:55   65536Mn   \n",
       "4  31364111_2  COMPLETED  2021-08-17T07:45:07 2021-09-10 16:45:24   16384Mn   \n",
       "5  31364111_3  COMPLETED  2021-08-17T07:45:07 2021-09-06 16:17:34   16384Mn   \n",
       "\n",
       "     USEDMEM      REQTIME     USEDTIME  NODES  CPUS EXITCODE  \n",
       "1  20604.62M  30-00:00:00  30-00:00:23      1     1      0:0  \n",
       "2  57553.77M  30-00:00:00  30-00:00:14      1    32      0:0  \n",
       "3  20577.96M  29-04:00:00  29-04:00:04      1     8      0:0  \n",
       "4   9733.43M  24-09:00:00  24-09:00:17      1     1      0:0  \n",
       "5   9708.04M  24-09:00:00  20-08:32:27      1     1      0:0  "
      ]
     },
     "execution_count": 7,
     "metadata": {},
     "output_type": "execute_result"
    }
   ],
   "source": [
    "jobs_filtered['END'] = jobs_filtered['END'].str.replace('T', ' ')\n",
    "jobs_filtered['END'] = pd.to_datetime(jobs_filtered['END'], format = \"%Y-%m-%d %H:%M:%S\")\n",
    "jobs_filtered.head(5)"
   ]
  },
  {
   "cell_type": "code",
   "execution_count": 8,
   "id": "68e24141-d698-46c6-892d-391b4a457434",
   "metadata": {},
   "outputs": [
    {
     "name": "stdout",
     "output_type": "stream",
     "text": [
      "<class 'pandas.core.frame.DataFrame'>\n",
      "Index: 7378850 entries, 1 to 7395884\n",
      "Data columns (total 11 columns):\n",
      " #   Column    Dtype         \n",
      "---  ------    -----         \n",
      " 0   JOBID     object        \n",
      " 1   STATE     object        \n",
      " 2   BEGIN     object        \n",
      " 3   END       datetime64[ns]\n",
      " 4   REQMEM    object        \n",
      " 5   USEDMEM   object        \n",
      " 6   REQTIME   object        \n",
      " 7   USEDTIME  object        \n",
      " 8   NODES     int64         \n",
      " 9   CPUS      int64         \n",
      " 10  EXITCODE  object        \n",
      "dtypes: datetime64[ns](1), int64(2), object(8)\n",
      "memory usage: 675.6+ MB\n"
     ]
    }
   ],
   "source": [
    "jobs_filtered.info()"
   ]
  },
  {
   "cell_type": "code",
   "execution_count": 9,
   "id": "5826e61c-bd31-4550-978c-f7c42f9c7e02",
   "metadata": {},
   "outputs": [],
   "source": [
    "jobs_filtered['REQTIME'] = jobs_filtered['REQTIME'].astype(str)\n",
    "jobs_filtered['USEDTIME'] = jobs_filtered['USEDTIME'].astype(str)"
   ]
  },
  {
   "cell_type": "code",
   "execution_count": 10,
   "id": "a0c00869-bde9-4eb7-8671-f86d39417ed9",
   "metadata": {},
   "outputs": [],
   "source": [
    "jobs_filtered_reqtime = jobs_filtered['REQTIME'].to_list()\n",
    "total_seconds_list = []\n",
    "for string in jobs_filtered_reqtime:\n",
    "    match = re.match(r'(\\d+)-(\\d+):(\\d+):(\\d+)', string)\n",
    "\n",
    "    if match:\n",
    "        days = int(match.group(1))\n",
    "        hours = int(match.group(2))\n",
    "        minutes = int(match.group(3))\n",
    "        seconds = int(match.group(4))\n",
    "    \n",
    "   \n",
    "        total_seconds = (days * 24 * 3600) + (hours * 3600) + (minutes * 60) + seconds\n",
    "    \n",
    "        total_seconds_list.append(total_seconds)\n",
    "\n",
    "jobs_filtered['REQTIME'] = pd.Series(total_seconds_list)\n"
   ]
  },
  {
   "cell_type": "code",
   "execution_count": 11,
   "id": "6e9ce0f4-2864-4ae6-a69b-c387e9e51116",
   "metadata": {},
   "outputs": [],
   "source": [
    "jobs_filtered_usedtime = jobs_filtered['USEDTIME'].to_list()\n",
    "total_seconds_list2 = []\n",
    "for string in jobs_filtered_usedtime:\n",
    "    match = re.match(r'(\\d+)-(\\d+):(\\d+):(\\d+)', string)\n",
    "\n",
    "    if match:\n",
    "        days = int(match.group(1))\n",
    "        hours = int(match.group(2))\n",
    "        minutes = int(match.group(3))\n",
    "        seconds = int(match.group(4))\n",
    "    \n",
    "   \n",
    "        total_seconds2 = (days * 24 * 3600) + (hours * 3600) + (minutes * 60) + seconds\n",
    "    \n",
    "        total_seconds_list2.append(total_seconds2)\n",
    "\n",
    "jobs_filtered['USEDTIME'] = pd.Series(total_seconds_list2)\n"
   ]
  },
  {
   "cell_type": "code",
   "execution_count": 12,
   "id": "927768bb-26fa-4b04-8f7f-15c7be4c1844",
   "metadata": {},
   "outputs": [],
   "source": [
    "jobs_filtered['TIME_DIFFERENCE'] = jobs_filtered['USEDTIME'] - jobs_filtered['REQTIME']"
   ]
  },
  {
   "cell_type": "code",
   "execution_count": 13,
   "id": "314710f2-630f-4a4b-8e07-82bb9dae7af8",
   "metadata": {},
   "outputs": [
    {
     "data": {
      "text/html": [
       "<div>\n",
       "<style scoped>\n",
       "    .dataframe tbody tr th:only-of-type {\n",
       "        vertical-align: middle;\n",
       "    }\n",
       "\n",
       "    .dataframe tbody tr th {\n",
       "        vertical-align: top;\n",
       "    }\n",
       "\n",
       "    .dataframe thead th {\n",
       "        text-align: right;\n",
       "    }\n",
       "</style>\n",
       "<table border=\"1\" class=\"dataframe\">\n",
       "  <thead>\n",
       "    <tr style=\"text-align: right;\">\n",
       "      <th></th>\n",
       "      <th>Date</th>\n",
       "      <th>Time</th>\n",
       "      <th>User</th>\n",
       "      <th>Retry</th>\n",
       "      <th>Length_of_Time</th>\n",
       "      <th>ReturnCode</th>\n",
       "      <th>Command</th>\n",
       "      <th>Server</th>\n",
       "      <th>DateTime</th>\n",
       "    </tr>\n",
       "  </thead>\n",
       "  <tbody>\n",
       "    <tr>\n",
       "      <th>0</th>\n",
       "      <td>2020-10-18</td>\n",
       "      <td>06:16:25</td>\n",
       "      <td>user 9204</td>\n",
       "      <td>retry 0</td>\n",
       "      <td>20.037672</td>\n",
       "      <td>returncode 1</td>\n",
       "      <td>command ['/usr/bin/sbatch', '/tmp/condor_g_scr...</td>\n",
       "      <td>ce6</td>\n",
       "      <td>2020-10-18 06:16:25</td>\n",
       "    </tr>\n",
       "    <tr>\n",
       "      <th>1</th>\n",
       "      <td>2020-10-18</td>\n",
       "      <td>06:38:44</td>\n",
       "      <td>user 9204</td>\n",
       "      <td>retry 0</td>\n",
       "      <td>20.038736</td>\n",
       "      <td>returncode 1</td>\n",
       "      <td>command ['/usr/bin/sbatch', '/tmp/condor_g_scr...</td>\n",
       "      <td>ce6</td>\n",
       "      <td>2020-10-18 06:38:44</td>\n",
       "    </tr>\n",
       "    <tr>\n",
       "      <th>2</th>\n",
       "      <td>2020-10-18</td>\n",
       "      <td>06:53:44</td>\n",
       "      <td>user 9204</td>\n",
       "      <td>retry 0</td>\n",
       "      <td>20.038464</td>\n",
       "      <td>returncode 1</td>\n",
       "      <td>command ['/usr/bin/sbatch', '/tmp/condor_g_scr...</td>\n",
       "      <td>ce5</td>\n",
       "      <td>2020-10-18 06:53:44</td>\n",
       "    </tr>\n",
       "    <tr>\n",
       "      <th>3</th>\n",
       "      <td>2020-10-18</td>\n",
       "      <td>06:54:04</td>\n",
       "      <td>user 9204</td>\n",
       "      <td>retry 1</td>\n",
       "      <td>20.048906</td>\n",
       "      <td>returncode 1</td>\n",
       "      <td>command ['/usr/bin/sbatch', '/tmp/condor_g_scr...</td>\n",
       "      <td>ce5</td>\n",
       "      <td>2020-10-18 06:54:04</td>\n",
       "    </tr>\n",
       "    <tr>\n",
       "      <th>4</th>\n",
       "      <td>2020-10-18</td>\n",
       "      <td>07:47:25</td>\n",
       "      <td>user 9204</td>\n",
       "      <td>retry 0</td>\n",
       "      <td>20.082628</td>\n",
       "      <td>returncode 1</td>\n",
       "      <td>command ['/usr/bin/sbatch', '/tmp/condor_g_scr...</td>\n",
       "      <td>ce5</td>\n",
       "      <td>2020-10-18 07:47:25</td>\n",
       "    </tr>\n",
       "    <tr>\n",
       "      <th>...</th>\n",
       "      <td>...</td>\n",
       "      <td>...</td>\n",
       "      <td>...</td>\n",
       "      <td>...</td>\n",
       "      <td>...</td>\n",
       "      <td>...</td>\n",
       "      <td>...</td>\n",
       "      <td>...</td>\n",
       "      <td>...</td>\n",
       "    </tr>\n",
       "    <tr>\n",
       "      <th>3291</th>\n",
       "      <td>2021-09-24</td>\n",
       "      <td>18:14:35</td>\n",
       "      <td>user 9204</td>\n",
       "      <td>retry 0</td>\n",
       "      <td>20.041436</td>\n",
       "      <td>returncode 1</td>\n",
       "      <td>command ['/usr/bin/sbatch', '/tmp/condor_g_scr...</td>\n",
       "      <td>ce5</td>\n",
       "      <td>2021-09-24 18:14:35</td>\n",
       "    </tr>\n",
       "    <tr>\n",
       "      <th>3292</th>\n",
       "      <td>2021-09-24</td>\n",
       "      <td>19:13:14</td>\n",
       "      <td>user 9204</td>\n",
       "      <td>retry 0</td>\n",
       "      <td>20.051321</td>\n",
       "      <td>returncode 1</td>\n",
       "      <td>command ['/usr/bin/sbatch', '/tmp/condor_g_scr...</td>\n",
       "      <td>ce5</td>\n",
       "      <td>2021-09-24 19:13:14</td>\n",
       "    </tr>\n",
       "    <tr>\n",
       "      <th>3293</th>\n",
       "      <td>2021-10-02</td>\n",
       "      <td>08:14:16</td>\n",
       "      <td>user 9204</td>\n",
       "      <td>retry 0</td>\n",
       "      <td>19.083227</td>\n",
       "      <td>returncode 1</td>\n",
       "      <td>command ['/usr/bin/sbatch', '/tmp/condor_g_scr...</td>\n",
       "      <td>ce5</td>\n",
       "      <td>2021-10-02 08:14:16</td>\n",
       "    </tr>\n",
       "    <tr>\n",
       "      <th>3294</th>\n",
       "      <td>2021-10-02</td>\n",
       "      <td>18:29:08</td>\n",
       "      <td>user 9204</td>\n",
       "      <td>retry 0</td>\n",
       "      <td>20.043146</td>\n",
       "      <td>returncode 1</td>\n",
       "      <td>command ['/usr/bin/sbatch', '/tmp/condor_g_scr...</td>\n",
       "      <td>ce5</td>\n",
       "      <td>2021-10-02 18:29:08</td>\n",
       "    </tr>\n",
       "    <tr>\n",
       "      <th>3295</th>\n",
       "      <td>2021-10-06</td>\n",
       "      <td>15:39:20</td>\n",
       "      <td>user 9204</td>\n",
       "      <td>retry 0</td>\n",
       "      <td>19.047097</td>\n",
       "      <td>returncode 1</td>\n",
       "      <td>command ['/usr/bin/sbatch', '/tmp/condor_g_scr...</td>\n",
       "      <td>ce6</td>\n",
       "      <td>2021-10-06 15:39:20</td>\n",
       "    </tr>\n",
       "  </tbody>\n",
       "</table>\n",
       "<p>3296 rows × 9 columns</p>\n",
       "</div>"
      ],
      "text/plain": [
       "            Date      Time       User    Retry  Length_of_Time    ReturnCode  \\\n",
       "0     2020-10-18  06:16:25  user 9204  retry 0       20.037672  returncode 1   \n",
       "1     2020-10-18  06:38:44  user 9204  retry 0       20.038736  returncode 1   \n",
       "2     2020-10-18  06:53:44  user 9204  retry 0       20.038464  returncode 1   \n",
       "3     2020-10-18  06:54:04  user 9204  retry 1       20.048906  returncode 1   \n",
       "4     2020-10-18  07:47:25  user 9204  retry 0       20.082628  returncode 1   \n",
       "...          ...       ...        ...      ...             ...           ...   \n",
       "3291  2021-09-24  18:14:35  user 9204  retry 0       20.041436  returncode 1   \n",
       "3292  2021-09-24  19:13:14  user 9204  retry 0       20.051321  returncode 1   \n",
       "3293  2021-10-02  08:14:16  user 9204  retry 0       19.083227  returncode 1   \n",
       "3294  2021-10-02  18:29:08  user 9204  retry 0       20.043146  returncode 1   \n",
       "3295  2021-10-06  15:39:20  user 9204  retry 0       19.047097  returncode 1   \n",
       "\n",
       "                                                Command Server  \\\n",
       "0     command ['/usr/bin/sbatch', '/tmp/condor_g_scr...    ce6   \n",
       "1     command ['/usr/bin/sbatch', '/tmp/condor_g_scr...    ce6   \n",
       "2     command ['/usr/bin/sbatch', '/tmp/condor_g_scr...    ce5   \n",
       "3     command ['/usr/bin/sbatch', '/tmp/condor_g_scr...    ce5   \n",
       "4     command ['/usr/bin/sbatch', '/tmp/condor_g_scr...    ce5   \n",
       "...                                                 ...    ...   \n",
       "3291  command ['/usr/bin/sbatch', '/tmp/condor_g_scr...    ce5   \n",
       "3292  command ['/usr/bin/sbatch', '/tmp/condor_g_scr...    ce5   \n",
       "3293  command ['/usr/bin/sbatch', '/tmp/condor_g_scr...    ce5   \n",
       "3294  command ['/usr/bin/sbatch', '/tmp/condor_g_scr...    ce5   \n",
       "3295  command ['/usr/bin/sbatch', '/tmp/condor_g_scr...    ce6   \n",
       "\n",
       "                DateTime  \n",
       "0    2020-10-18 06:16:25  \n",
       "1    2020-10-18 06:38:44  \n",
       "2    2020-10-18 06:53:44  \n",
       "3    2020-10-18 06:54:04  \n",
       "4    2020-10-18 07:47:25  \n",
       "...                  ...  \n",
       "3291 2021-09-24 18:14:35  \n",
       "3292 2021-09-24 19:13:14  \n",
       "3293 2021-10-02 08:14:16  \n",
       "3294 2021-10-02 18:29:08  \n",
       "3295 2021-10-06 15:39:20  \n",
       "\n",
       "[3296 rows x 9 columns]"
      ]
     },
     "execution_count": 13,
     "metadata": {},
     "output_type": "execute_result"
    }
   ],
   "source": [
    "user_ninety_two_oh_four_failures = pd.read_csv('data/final_log_csv.csv')\n",
    "user_ninety_two_oh_four_failures['DateTime'] = pd.to_datetime(user_ninety_two_oh_four_failures['Date'] + ' ' + user_ninety_two_oh_four_failures['Time'])\n",
    "user_ninety_two_oh_four_failures = user_ninety_two_oh_four_failures.drop(columns = 'Unnamed: 0')\n",
    "user_ninety_two_oh_four_failures"
   ]
  },
  {
   "cell_type": "code",
   "execution_count": 14,
   "id": "6afde0e7-7674-488b-858a-db3a40b48eb5",
   "metadata": {},
   "outputs": [
    {
     "data": {
      "image/png": "[encoded data removed]",
      "text/plain": [
       "<Figure size 640x480 with 1 Axes>"
      ]
     },
     "metadata": {},
     "output_type": "display_data"
    }
   ],
   "source": [
    "sns.histplot(data =user_ninety_two_oh_four_failures, x='DateTime', bins=50)\n",
    "plt.show()"
   ]
  },
  {
   "cell_type": "code",
   "execution_count": 15,
   "id": "d7fb37cd-af67-4854-99c9-4f25a93abb66",
   "metadata": {},
   "outputs": [],
   "source": [
    "user_date_high = pd.to_datetime('2020-12-04').date()\n",
    "user_high_failure_day_df = user_ninety_two_oh_four_failures[user_ninety_two_oh_four_failures['DateTime'].dt.date == user_date_high]"
   ]
  },
  {
   "cell_type": "code",
   "execution_count": 16,
   "id": "877aced2-67fe-4321-99a6-8d28894b43ca",
   "metadata": {},
   "outputs": [
    {
     "data": {
      "text/html": [
       "<div>\n",
       "<style scoped>\n",
       "    .dataframe tbody tr th:only-of-type {\n",
       "        vertical-align: middle;\n",
       "    }\n",
       "\n",
       "    .dataframe tbody tr th {\n",
       "        vertical-align: top;\n",
       "    }\n",
       "\n",
       "    .dataframe thead th {\n",
       "        text-align: right;\n",
       "    }\n",
       "</style>\n",
       "<table border=\"1\" class=\"dataframe\">\n",
       "  <thead>\n",
       "    <tr style=\"text-align: right;\">\n",
       "      <th></th>\n",
       "      <th>Date</th>\n",
       "      <th>Time</th>\n",
       "      <th>User</th>\n",
       "      <th>Retry</th>\n",
       "      <th>Length_of_Time</th>\n",
       "      <th>ReturnCode</th>\n",
       "      <th>Command</th>\n",
       "      <th>Server</th>\n",
       "      <th>DateTime</th>\n",
       "    </tr>\n",
       "  </thead>\n",
       "  <tbody>\n",
       "    <tr>\n",
       "      <th>589</th>\n",
       "      <td>2020-12-04</td>\n",
       "      <td>10:00:34</td>\n",
       "      <td>user 9204</td>\n",
       "      <td>retry 0</td>\n",
       "      <td>20.045381</td>\n",
       "      <td>returncode 1</td>\n",
       "      <td>command ['/usr/bin/sbatch', '/tmp/condor_g_scr...</td>\n",
       "      <td>ce5</td>\n",
       "      <td>2020-12-04 10:00:34</td>\n",
       "    </tr>\n",
       "    <tr>\n",
       "      <th>590</th>\n",
       "      <td>2020-12-04</td>\n",
       "      <td>10:22:23</td>\n",
       "      <td>user 9204</td>\n",
       "      <td>retry 0</td>\n",
       "      <td>20.021241</td>\n",
       "      <td>returncode 1</td>\n",
       "      <td>command ['/usr/bin/sbatch', '/tmp/condor_g_scr...</td>\n",
       "      <td>ce6</td>\n",
       "      <td>2020-12-04 10:22:23</td>\n",
       "    </tr>\n",
       "  </tbody>\n",
       "</table>\n",
       "</div>"
      ],
      "text/plain": [
       "           Date      Time       User    Retry  Length_of_Time    ReturnCode  \\\n",
       "589  2020-12-04  10:00:34  user 9204  retry 0       20.045381  returncode 1   \n",
       "590  2020-12-04  10:22:23  user 9204  retry 0       20.021241  returncode 1   \n",
       "\n",
       "                                               Command Server  \\\n",
       "589  command ['/usr/bin/sbatch', '/tmp/condor_g_scr...    ce5   \n",
       "590  command ['/usr/bin/sbatch', '/tmp/condor_g_scr...    ce6   \n",
       "\n",
       "               DateTime  \n",
       "589 2020-12-04 10:00:34  \n",
       "590 2020-12-04 10:22:23  "
      ]
     },
     "execution_count": 16,
     "metadata": {},
     "output_type": "execute_result"
    }
   ],
   "source": [
    "user_high_failure_day_df.head(2)"
   ]
  },
  {
   "cell_type": "code",
   "execution_count": 17,
   "id": "fc8fbbb5-3f1f-4bd3-8923-582f14a781df",
   "metadata": {},
   "outputs": [],
   "source": [
    "time_something = user_high_failure_day_df['Time'].value_counts().index[0]"
   ]
  },
  {
   "cell_type": "code",
   "execution_count": 18,
   "id": "0b6cdf3e-a644-4840-bb0c-50e6269872bc",
   "metadata": {},
   "outputs": [],
   "source": [
    "something_df = user_high_failure_day_df[user_high_failure_day_df['Time'] == time_something]"
   ]
  },
  {
   "cell_type": "code",
   "execution_count": 19,
   "id": "7c00cbac-bf7a-4947-9d74-39f66fe6bc71",
   "metadata": {},
   "outputs": [
    {
     "data": {
      "text/html": [
       "<div>\n",
       "<style scoped>\n",
       "    .dataframe tbody tr th:only-of-type {\n",
       "        vertical-align: middle;\n",
       "    }\n",
       "\n",
       "    .dataframe tbody tr th {\n",
       "        vertical-align: top;\n",
       "    }\n",
       "\n",
       "    .dataframe thead th {\n",
       "        text-align: right;\n",
       "    }\n",
       "</style>\n",
       "<table border=\"1\" class=\"dataframe\">\n",
       "  <thead>\n",
       "    <tr style=\"text-align: right;\">\n",
       "      <th></th>\n",
       "      <th>Date</th>\n",
       "      <th>Time</th>\n",
       "      <th>User</th>\n",
       "      <th>Retry</th>\n",
       "      <th>Length_of_Time</th>\n",
       "      <th>ReturnCode</th>\n",
       "      <th>Command</th>\n",
       "      <th>Server</th>\n",
       "      <th>DateTime</th>\n",
       "    </tr>\n",
       "  </thead>\n",
       "  <tbody>\n",
       "    <tr>\n",
       "      <th>599</th>\n",
       "      <td>2020-12-04</td>\n",
       "      <td>10:52:19</td>\n",
       "      <td>user 9204</td>\n",
       "      <td>retry 2</td>\n",
       "      <td>20.424641</td>\n",
       "      <td>returncode 1</td>\n",
       "      <td>command ['/usr/bin/sbatch', '/tmp/condor_g_scr...</td>\n",
       "      <td>ce5</td>\n",
       "      <td>2020-12-04 10:52:19</td>\n",
       "    </tr>\n",
       "    <tr>\n",
       "      <th>600</th>\n",
       "      <td>2020-12-04</td>\n",
       "      <td>10:52:19</td>\n",
       "      <td>user 9204</td>\n",
       "      <td>retry 0</td>\n",
       "      <td>20.036723</td>\n",
       "      <td>returncode 1</td>\n",
       "      <td>command ['/usr/bin/sbatch', '/tmp/condor_g_scr...</td>\n",
       "      <td>ce6</td>\n",
       "      <td>2020-12-04 10:52:19</td>\n",
       "    </tr>\n",
       "  </tbody>\n",
       "</table>\n",
       "</div>"
      ],
      "text/plain": [
       "           Date      Time       User    Retry  Length_of_Time    ReturnCode  \\\n",
       "599  2020-12-04  10:52:19  user 9204  retry 2       20.424641  returncode 1   \n",
       "600  2020-12-04  10:52:19  user 9204  retry 0       20.036723  returncode 1   \n",
       "\n",
       "                                               Command Server  \\\n",
       "599  command ['/usr/bin/sbatch', '/tmp/condor_g_scr...    ce5   \n",
       "600  command ['/usr/bin/sbatch', '/tmp/condor_g_scr...    ce6   \n",
       "\n",
       "               DateTime  \n",
       "599 2020-12-04 10:52:19  \n",
       "600 2020-12-04 10:52:19  "
      ]
     },
     "execution_count": 19,
     "metadata": {},
     "output_type": "execute_result"
    }
   ],
   "source": [
    "something_df"
   ]
  },
  {
   "cell_type": "markdown",
   "id": "3875038a-f767-4089-9c83-e5e3e4354a08",
   "metadata": {},
   "source": [
    "## Filter Logs by high failure interval"
   ]
  },
  {
   "cell_type": "markdown",
   "id": "094ad9e1-6315-477e-9720-dd989017f0ce",
   "metadata": {},
   "source": [
    "<h5>Based on Week</h5>"
   ]
  },
  {
   "cell_type": "code",
   "execution_count": 22,
   "id": "cc6335b9-751d-4944-a98b-aad742da66b8",
   "metadata": {},
   "outputs": [],
   "source": [
    "# High failures seen for 9204 between 2020-12-02 and 2021-01-01\n",
    "start_date_high = pd.to_datetime('2020-12-02').date()\n",
    "end_time_high = pd.to_datetime('2020-12-09').date()\n",
    "\n",
    "high_failures_df = jobs_filtered[(jobs_filtered['END'].dt.date >= start_date_high) & (jobs_filtered['END'].dt.date <= end_time_high)].reset_index(drop=True)"
   ]
  },
  {
   "cell_type": "markdown",
   "id": "ac79e720-cb6a-4ac2-b202-93b37d10921d",
   "metadata": {},
   "source": [
    "<h5>Based on Day</h5>"
   ]
  },
  {
   "cell_type": "code",
   "execution_count": 24,
   "id": "6e737697-e1d3-485f-b5f5-8751b9e0baff",
   "metadata": {},
   "outputs": [],
   "source": [
    "date_high = pd.to_datetime('2020-12-04').date()\n",
    "high_failures_day_df = jobs_filtered[jobs_filtered['END'].dt.date == date_high]"
   ]
  },
  {
   "cell_type": "markdown",
   "id": "d20b2d81-3e9c-4a82-899b-2b266704db95",
   "metadata": {},
   "source": [
    "<h5>Based on Time Frame</h5>"
   ]
  },
  {
   "cell_type": "code",
   "execution_count": 26,
   "id": "6f6c42db-6a6c-4f4d-81e8-ce8ae26d525e",
   "metadata": {},
   "outputs": [],
   "source": [
    "start_time_high_fail = pd.to_datetime('2020-12-04 10:40:19')\n",
    "end_time_high_fail = pd.to_datetime('2020-12-04 10:52:19')\n",
    "\n",
    "high_failure_timeframe_df = jobs_filtered[(jobs_filtered['END'] >= start_time_high_fail) & (jobs_filtered['END'] <= end_time_high_fail)].reset_index(drop=True)"
   ]
  },
  {
   "cell_type": "code",
   "execution_count": 27,
   "id": "09a7b4e5-1a04-4856-9576-f5f24bcb7270",
   "metadata": {},
   "outputs": [
    {
     "data": {
      "text/plain": [
       "END\n",
       "08:28:27    173\n",
       "08:28:26     40\n",
       "14:45:46     37\n",
       "17:29:45     33\n",
       "16:20:45     28\n",
       "           ... \n",
       "01:05:54      1\n",
       "01:05:35      1\n",
       "01:07:29      1\n",
       "01:03:49      1\n",
       "23:45:27      1\n",
       "Name: count, Length: 8461, dtype: int64"
      ]
     },
     "execution_count": 27,
     "metadata": {},
     "output_type": "execute_result"
    }
   ],
   "source": [
    "high_failures_day_df['END'].dt.time.value_counts()"
   ]
  },
  {
   "cell_type": "markdown",
   "id": "224e7aa3-e086-4e71-a59a-35a9d4988769",
   "metadata": {},
   "source": [
    "## Filter Logs by low failure interval"
   ]
  },
  {
   "cell_type": "markdown",
   "id": "8e958ac5-e11c-4d4b-821b-093cffa6f4ab",
   "metadata": {},
   "source": [
    "<h5>Based on Week</h5>"
   ]
  },
  {
   "cell_type": "code",
   "execution_count": 30,
   "id": "e8f92709-f19a-4ede-bbaf-80d848c4aa94",
   "metadata": {},
   "outputs": [],
   "source": [
    "start_date_low = pd.to_datetime('2021-08-21').date()\n",
    "end_time_low = pd.to_datetime('2021-08-28').date()\n",
    "\n",
    "low_failures_df = jobs_filtered[(jobs_filtered['END'].dt.date >= start_date_low) & (jobs_filtered['END'].dt.date <= end_time_low)].reset_index(drop=True)"
   ]
  },
  {
   "cell_type": "markdown",
   "id": "e9a772c4-65c7-4f76-8e50-ec2dce43945f",
   "metadata": {},
   "source": [
    "<h5>Based on Day</h5>"
   ]
  },
  {
   "cell_type": "code",
   "execution_count": 32,
   "id": "951ff5ab-935c-4952-8f82-22acd2b1f161",
   "metadata": {},
   "outputs": [],
   "source": [
    "date_low = pd.to_datetime('2021-03-23').date()\n",
    "low_failures_day_df = jobs_filtered[jobs_filtered['END'].dt.date == date_low]"
   ]
  },
  {
   "cell_type": "markdown",
   "id": "b794771c-d64f-432c-a5ee-e5b8ebc7b0db",
   "metadata": {},
   "source": [
    "<h5>Based on Time Frame</h5>"
   ]
  },
  {
   "cell_type": "code",
   "execution_count": 34,
   "id": "8baef12d-986f-459b-866d-ddd86ece60b8",
   "metadata": {},
   "outputs": [],
   "source": [
    "start_time_low_fail = pd.to_datetime('2021-03-23 10:40:19')\n",
    "end_time_low_fail = pd.to_datetime('2021-03-23 10:52:19')\n",
    "\n",
    "low_failure_timeframe_df = jobs_filtered[(jobs_filtered['END'] >= start_time_low_fail) & (jobs_filtered['END'] <= end_time_low_fail)].reset_index(drop=True)"
   ]
  },
  {
   "cell_type": "markdown",
   "id": "a760b5c9-e373-4b21-97cb-fa3f81fbc1cf",
   "metadata": {},
   "source": [
    "<h1>EDA"
   ]
  },
  {
   "cell_type": "code",
   "execution_count": 36,
   "id": "c1bd784f-08a5-4e7b-aac9-3f67aa1e7a34",
   "metadata": {},
   "outputs": [
    {
     "data": {
      "text/plain": [
       "(140244, 12)"
      ]
     },
     "metadata": {},
     "output_type": "display_data"
    },
    {
     "data": {
      "text/plain": [
       "(256113, 12)"
      ]
     },
     "metadata": {},
     "output_type": "display_data"
    }
   ],
   "source": [
    "display(high_failures_df.shape)\n",
    "display(low_failures_df.shape)"
   ]
  },
  {
   "cell_type": "code",
   "execution_count": 37,
   "id": "17917496-2020-4735-8315-cdc928f02cac",
   "metadata": {},
   "outputs": [
    {
     "data": {
      "text/plain": [
       "(17542, 12)"
      ]
     },
     "metadata": {},
     "output_type": "display_data"
    },
    {
     "data": {
      "text/plain": [
       "(19938, 12)"
      ]
     },
     "metadata": {},
     "output_type": "display_data"
    }
   ],
   "source": [
    "display(high_failures_day_df.shape)\n",
    "display(low_failures_day_df.shape)"
   ]
  },
  {
   "cell_type": "markdown",
   "id": "30a6b095-84f6-455c-aab0-ec3b244d3607",
   "metadata": {},
   "source": [
    "Investigate time area around 10:52:19 on 2020-12-04 and 2021-03-23"
   ]
  },
  {
   "cell_type": "code",
   "execution_count": 39,
   "id": "81e8fe81-3824-4a35-98f1-4e83a4f97f6c",
   "metadata": {},
   "outputs": [
    {
     "data": {
      "text/plain": [
       "(64, 12)"
      ]
     },
     "metadata": {},
     "output_type": "display_data"
    },
    {
     "data": {
      "text/plain": [
       "(187, 12)"
      ]
     },
     "metadata": {},
     "output_type": "display_data"
    }
   ],
   "source": [
    "display(high_failure_timeframe_df.shape)\n",
    "display(low_failure_timeframe_df.shape)"
   ]
  },
  {
   "cell_type": "markdown",
   "id": "fac40fe4-b8eb-499b-84cf-cd5826d61053",
   "metadata": {},
   "source": [
    "<h3>Typical Count of Jobs By Hour Dataframe"
   ]
  },
  {
   "cell_type": "code",
   "execution_count": 41,
   "id": "e8762cef-684b-42a7-b978-0bf2fcf075a7",
   "metadata": {},
   "outputs": [
    {
     "data": {
      "text/html": [
       "<div>\n",
       "<style scoped>\n",
       "    .dataframe tbody tr th:only-of-type {\n",
       "        vertical-align: middle;\n",
       "    }\n",
       "\n",
       "    .dataframe tbody tr th {\n",
       "        vertical-align: top;\n",
       "    }\n",
       "\n",
       "    .dataframe thead th {\n",
       "        text-align: right;\n",
       "    }\n",
       "</style>\n",
       "<table border=\"1\" class=\"dataframe\">\n",
       "  <thead>\n",
       "    <tr style=\"text-align: right;\">\n",
       "      <th></th>\n",
       "      <th>JOBID</th>\n",
       "      <th>STATE</th>\n",
       "      <th>BEGIN</th>\n",
       "      <th>END</th>\n",
       "      <th>REQMEM</th>\n",
       "      <th>USEDMEM</th>\n",
       "      <th>REQTIME</th>\n",
       "      <th>USEDTIME</th>\n",
       "      <th>NODES</th>\n",
       "      <th>CPUS</th>\n",
       "      <th>EXITCODE</th>\n",
       "      <th>TIME_DIFFERENCE</th>\n",
       "    </tr>\n",
       "  </thead>\n",
       "  <tbody>\n",
       "    <tr>\n",
       "      <th>1</th>\n",
       "      <td>30853133</td>\n",
       "      <td>COMPLETED</td>\n",
       "      <td>2021-08-06T11:36:09</td>\n",
       "      <td>2021-09-05 11:36:32</td>\n",
       "      <td>262144Mn</td>\n",
       "      <td>20604.62M</td>\n",
       "      <td>2592000.0</td>\n",
       "      <td>2592014.0</td>\n",
       "      <td>1</td>\n",
       "      <td>1</td>\n",
       "      <td>0:0</td>\n",
       "      <td>14.0</td>\n",
       "    </tr>\n",
       "    <tr>\n",
       "      <th>2</th>\n",
       "      <td>30858137</td>\n",
       "      <td>COMPLETED</td>\n",
       "      <td>2021-08-06T19:04:39</td>\n",
       "      <td>2021-09-05 19:04:53</td>\n",
       "      <td>204800Mn</td>\n",
       "      <td>57553.77M</td>\n",
       "      <td>2520000.0</td>\n",
       "      <td>2520004.0</td>\n",
       "      <td>1</td>\n",
       "      <td>32</td>\n",
       "      <td>0:0</td>\n",
       "      <td>4.0</td>\n",
       "    </tr>\n",
       "    <tr>\n",
       "      <th>3</th>\n",
       "      <td>30935078</td>\n",
       "      <td>COMPLETED</td>\n",
       "      <td>2021-08-09T16:52:51</td>\n",
       "      <td>2021-09-07 20:52:55</td>\n",
       "      <td>65536Mn</td>\n",
       "      <td>20577.96M</td>\n",
       "      <td>2106000.0</td>\n",
       "      <td>2106017.0</td>\n",
       "      <td>1</td>\n",
       "      <td>8</td>\n",
       "      <td>0:0</td>\n",
       "      <td>17.0</td>\n",
       "    </tr>\n",
       "    <tr>\n",
       "      <th>4</th>\n",
       "      <td>31364111_2</td>\n",
       "      <td>COMPLETED</td>\n",
       "      <td>2021-08-17T07:45:07</td>\n",
       "      <td>2021-09-10 16:45:24</td>\n",
       "      <td>16384Mn</td>\n",
       "      <td>9733.43M</td>\n",
       "      <td>2106000.0</td>\n",
       "      <td>1758747.0</td>\n",
       "      <td>1</td>\n",
       "      <td>1</td>\n",
       "      <td>0:0</td>\n",
       "      <td>-347253.0</td>\n",
       "    </tr>\n",
       "    <tr>\n",
       "      <th>5</th>\n",
       "      <td>31364111_3</td>\n",
       "      <td>COMPLETED</td>\n",
       "      <td>2021-08-17T07:45:07</td>\n",
       "      <td>2021-09-06 16:17:34</td>\n",
       "      <td>16384Mn</td>\n",
       "      <td>9708.04M</td>\n",
       "      <td>2106000.0</td>\n",
       "      <td>1723204.0</td>\n",
       "      <td>1</td>\n",
       "      <td>1</td>\n",
       "      <td>0:0</td>\n",
       "      <td>-382796.0</td>\n",
       "    </tr>\n",
       "    <tr>\n",
       "      <th>...</th>\n",
       "      <td>...</td>\n",
       "      <td>...</td>\n",
       "      <td>...</td>\n",
       "      <td>...</td>\n",
       "      <td>...</td>\n",
       "      <td>...</td>\n",
       "      <td>...</td>\n",
       "      <td>...</td>\n",
       "      <td>...</td>\n",
       "      <td>...</td>\n",
       "      <td>...</td>\n",
       "      <td>...</td>\n",
       "    </tr>\n",
       "    <tr>\n",
       "      <th>98</th>\n",
       "      <td>31762549</td>\n",
       "      <td>COMPLETED</td>\n",
       "      <td>2021-08-30T07:54:00</td>\n",
       "      <td>2021-09-01 05:40:36</td>\n",
       "      <td>28000Mn</td>\n",
       "      <td>16727.56M</td>\n",
       "      <td>172800.0</td>\n",
       "      <td>167023.0</td>\n",
       "      <td>1</td>\n",
       "      <td>4</td>\n",
       "      <td>0:0</td>\n",
       "      <td>-5777.0</td>\n",
       "    </tr>\n",
       "    <tr>\n",
       "      <th>99</th>\n",
       "      <td>31762550</td>\n",
       "      <td>COMPLETED</td>\n",
       "      <td>2021-08-30T07:54:59</td>\n",
       "      <td>2021-09-01 07:14:09</td>\n",
       "      <td>28000Mn</td>\n",
       "      <td>11096.74M</td>\n",
       "      <td>172800.0</td>\n",
       "      <td>168832.0</td>\n",
       "      <td>1</td>\n",
       "      <td>4</td>\n",
       "      <td>0:0</td>\n",
       "      <td>-3968.0</td>\n",
       "    </tr>\n",
       "    <tr>\n",
       "      <th>100</th>\n",
       "      <td>31762591</td>\n",
       "      <td>COMPLETED</td>\n",
       "      <td>2021-08-30T07:14:59</td>\n",
       "      <td>2021-09-01 05:24:37</td>\n",
       "      <td>21875Mn</td>\n",
       "      <td>12145M</td>\n",
       "      <td>172800.0</td>\n",
       "      <td>159810.0</td>\n",
       "      <td>1</td>\n",
       "      <td>8</td>\n",
       "      <td>0:0</td>\n",
       "      <td>-12990.0</td>\n",
       "    </tr>\n",
       "    <tr>\n",
       "      <th>101</th>\n",
       "      <td>31762604</td>\n",
       "      <td>COMPLETED</td>\n",
       "      <td>2021-08-30T08:03:59</td>\n",
       "      <td>2021-09-01 06:27:42</td>\n",
       "      <td>28000Mn</td>\n",
       "      <td>10472.11M</td>\n",
       "      <td>172800.0</td>\n",
       "      <td>152885.0</td>\n",
       "      <td>1</td>\n",
       "      <td>4</td>\n",
       "      <td>0:0</td>\n",
       "      <td>-19915.0</td>\n",
       "    </tr>\n",
       "    <tr>\n",
       "      <th>102</th>\n",
       "      <td>31762607</td>\n",
       "      <td>COMPLETED</td>\n",
       "      <td>2021-08-30T08:33:00</td>\n",
       "      <td>2021-09-01 07:26:52</td>\n",
       "      <td>28000Mn</td>\n",
       "      <td>15115.67M</td>\n",
       "      <td>172800.0</td>\n",
       "      <td>167251.0</td>\n",
       "      <td>1</td>\n",
       "      <td>4</td>\n",
       "      <td>0:0</td>\n",
       "      <td>-5549.0</td>\n",
       "    </tr>\n",
       "  </tbody>\n",
       "</table>\n",
       "<p>100 rows × 12 columns</p>\n",
       "</div>"
      ],
      "text/plain": [
       "          JOBID      STATE                BEGIN                 END    REQMEM  \\\n",
       "1      30853133  COMPLETED  2021-08-06T11:36:09 2021-09-05 11:36:32  262144Mn   \n",
       "2      30858137  COMPLETED  2021-08-06T19:04:39 2021-09-05 19:04:53  204800Mn   \n",
       "3      30935078  COMPLETED  2021-08-09T16:52:51 2021-09-07 20:52:55   65536Mn   \n",
       "4    31364111_2  COMPLETED  2021-08-17T07:45:07 2021-09-10 16:45:24   16384Mn   \n",
       "5    31364111_3  COMPLETED  2021-08-17T07:45:07 2021-09-06 16:17:34   16384Mn   \n",
       "..          ...        ...                  ...                 ...       ...   \n",
       "98     31762549  COMPLETED  2021-08-30T07:54:00 2021-09-01 05:40:36   28000Mn   \n",
       "99     31762550  COMPLETED  2021-08-30T07:54:59 2021-09-01 07:14:09   28000Mn   \n",
       "100    31762591  COMPLETED  2021-08-30T07:14:59 2021-09-01 05:24:37   21875Mn   \n",
       "101    31762604  COMPLETED  2021-08-30T08:03:59 2021-09-01 06:27:42   28000Mn   \n",
       "102    31762607  COMPLETED  2021-08-30T08:33:00 2021-09-01 07:26:52   28000Mn   \n",
       "\n",
       "       USEDMEM    REQTIME   USEDTIME  NODES  CPUS EXITCODE  TIME_DIFFERENCE  \n",
       "1    20604.62M  2592000.0  2592014.0      1     1      0:0             14.0  \n",
       "2    57553.77M  2520000.0  2520004.0      1    32      0:0              4.0  \n",
       "3    20577.96M  2106000.0  2106017.0      1     8      0:0             17.0  \n",
       "4     9733.43M  2106000.0  1758747.0      1     1      0:0        -347253.0  \n",
       "5     9708.04M  2106000.0  1723204.0      1     1      0:0        -382796.0  \n",
       "..         ...        ...        ...    ...   ...      ...              ...  \n",
       "98   16727.56M   172800.0   167023.0      1     4      0:0          -5777.0  \n",
       "99   11096.74M   172800.0   168832.0      1     4      0:0          -3968.0  \n",
       "100     12145M   172800.0   159810.0      1     8      0:0         -12990.0  \n",
       "101  10472.11M   172800.0   152885.0      1     4      0:0         -19915.0  \n",
       "102  15115.67M   172800.0   167251.0      1     4      0:0          -5549.0  \n",
       "\n",
       "[100 rows x 12 columns]"
      ]
     },
     "execution_count": 41,
     "metadata": {},
     "output_type": "execute_result"
    }
   ],
   "source": [
    "jobs_filtered.head(100)"
   ]
  },
  {
   "cell_type": "code",
   "execution_count": 42,
   "id": "f86e9a77-7c29-4cc4-a43d-e19d004c2ef8",
   "metadata": {},
   "outputs": [],
   "source": [
    "jobs_filtered['USEDMEM'] = jobs_filtered['USEDMEM'].str.replace('M','').astype(float)"
   ]
  },
  {
   "cell_type": "code",
   "execution_count": 43,
   "id": "01821644-3bc0-4bc9-84a1-e8ffae7daeb0",
   "metadata": {},
   "outputs": [],
   "source": [
    "typical_day_count = jobs_filtered.groupby([jobs_filtered['END'].dt.date, jobs_filtered['END'].dt.hour]).agg({'JOBID':'count', 'USEDMEM':'mean', 'TIME_DIFFERENCE':'sum'})\n",
    "typical_day_count.index.names = ['Date', 'Hour']"
   ]
  },
  {
   "cell_type": "code",
   "execution_count": 44,
   "id": "f576239c-eddd-4d40-a4e5-de7832364ab8",
   "metadata": {},
   "outputs": [
    {
     "data": {
      "text/html": [
       "<div>\n",
       "<style scoped>\n",
       "    .dataframe tbody tr th:only-of-type {\n",
       "        vertical-align: middle;\n",
       "    }\n",
       "\n",
       "    .dataframe tbody tr th {\n",
       "        vertical-align: top;\n",
       "    }\n",
       "\n",
       "    .dataframe thead th {\n",
       "        text-align: right;\n",
       "    }\n",
       "</style>\n",
       "<table border=\"1\" class=\"dataframe\">\n",
       "  <thead>\n",
       "    <tr style=\"text-align: right;\">\n",
       "      <th></th>\n",
       "      <th>JOBID</th>\n",
       "      <th>USEDMEM</th>\n",
       "      <th>TIME_DIFFERENCE</th>\n",
       "    </tr>\n",
       "  </thead>\n",
       "  <tbody>\n",
       "    <tr>\n",
       "      <th>count</th>\n",
       "      <td>8922.000000</td>\n",
       "      <td>8922.000000</td>\n",
       "      <td>8.922000e+03</td>\n",
       "    </tr>\n",
       "    <tr>\n",
       "      <th>mean</th>\n",
       "      <td>827.039901</td>\n",
       "      <td>4388.928793</td>\n",
       "      <td>-2.266306e+06</td>\n",
       "    </tr>\n",
       "    <tr>\n",
       "      <th>std</th>\n",
       "      <td>1187.305298</td>\n",
       "      <td>4743.361533</td>\n",
       "      <td>3.109730e+07</td>\n",
       "    </tr>\n",
       "    <tr>\n",
       "      <th>min</th>\n",
       "      <td>2.000000</td>\n",
       "      <td>0.022500</td>\n",
       "      <td>-1.908644e+09</td>\n",
       "    </tr>\n",
       "    <tr>\n",
       "      <th>25%</th>\n",
       "      <td>250.000000</td>\n",
       "      <td>1788.929118</td>\n",
       "      <td>0.000000e+00</td>\n",
       "    </tr>\n",
       "    <tr>\n",
       "      <th>50%</th>\n",
       "      <td>487.500000</td>\n",
       "      <td>3186.458832</td>\n",
       "      <td>0.000000e+00</td>\n",
       "    </tr>\n",
       "    <tr>\n",
       "      <th>75%</th>\n",
       "      <td>907.750000</td>\n",
       "      <td>5323.608134</td>\n",
       "      <td>0.000000e+00</td>\n",
       "    </tr>\n",
       "    <tr>\n",
       "      <th>max</th>\n",
       "      <td>13346.000000</td>\n",
       "      <td>125438.190000</td>\n",
       "      <td>2.587094e+08</td>\n",
       "    </tr>\n",
       "  </tbody>\n",
       "</table>\n",
       "</div>"
      ],
      "text/plain": [
       "              JOBID        USEDMEM  TIME_DIFFERENCE\n",
       "count   8922.000000    8922.000000     8.922000e+03\n",
       "mean     827.039901    4388.928793    -2.266306e+06\n",
       "std     1187.305298    4743.361533     3.109730e+07\n",
       "min        2.000000       0.022500    -1.908644e+09\n",
       "25%      250.000000    1788.929118     0.000000e+00\n",
       "50%      487.500000    3186.458832     0.000000e+00\n",
       "75%      907.750000    5323.608134     0.000000e+00\n",
       "max    13346.000000  125438.190000     2.587094e+08"
      ]
     },
     "execution_count": 44,
     "metadata": {},
     "output_type": "execute_result"
    }
   ],
   "source": [
    "typical_day_count.describe()"
   ]
  },
  {
   "cell_type": "code",
   "execution_count": 45,
   "id": "e7dfbca9-5c4c-4abf-85a0-62e174ebbe91",
   "metadata": {},
   "outputs": [
    {
     "data": {
      "text/plain": [
       "(8922, 3)"
      ]
     },
     "execution_count": 45,
     "metadata": {},
     "output_type": "execute_result"
    }
   ],
   "source": [
    "typical_day_count.shape"
   ]
  },
  {
   "cell_type": "code",
   "execution_count": 46,
   "id": "8a1b93ae-22a5-4d8c-9754-76d01c5374b4",
   "metadata": {},
   "outputs": [
    {
     "data": {
      "text/html": [
       "<div>\n",
       "<style scoped>\n",
       "    .dataframe tbody tr th:only-of-type {\n",
       "        vertical-align: middle;\n",
       "    }\n",
       "\n",
       "    .dataframe tbody tr th {\n",
       "        vertical-align: top;\n",
       "    }\n",
       "\n",
       "    .dataframe thead th {\n",
       "        text-align: right;\n",
       "    }\n",
       "</style>\n",
       "<table border=\"1\" class=\"dataframe\">\n",
       "  <thead>\n",
       "    <tr style=\"text-align: right;\">\n",
       "      <th></th>\n",
       "      <th></th>\n",
       "      <th>JOBID</th>\n",
       "      <th>USEDMEM</th>\n",
       "      <th>TIME_DIFFERENCE</th>\n",
       "    </tr>\n",
       "    <tr>\n",
       "      <th>Date</th>\n",
       "      <th>Hour</th>\n",
       "      <th></th>\n",
       "      <th></th>\n",
       "      <th></th>\n",
       "    </tr>\n",
       "  </thead>\n",
       "  <tbody>\n",
       "    <tr>\n",
       "      <th rowspan=\"5\" valign=\"top\">2020-10-01</th>\n",
       "      <th>0</th>\n",
       "      <td>421</td>\n",
       "      <td>19.167886</td>\n",
       "      <td>0.0</td>\n",
       "    </tr>\n",
       "    <tr>\n",
       "      <th>1</th>\n",
       "      <td>1080</td>\n",
       "      <td>13.272481</td>\n",
       "      <td>0.0</td>\n",
       "    </tr>\n",
       "    <tr>\n",
       "      <th>2</th>\n",
       "      <td>1137</td>\n",
       "      <td>14.093026</td>\n",
       "      <td>0.0</td>\n",
       "    </tr>\n",
       "    <tr>\n",
       "      <th>3</th>\n",
       "      <td>1018</td>\n",
       "      <td>14.400530</td>\n",
       "      <td>0.0</td>\n",
       "    </tr>\n",
       "    <tr>\n",
       "      <th>4</th>\n",
       "      <td>1244</td>\n",
       "      <td>307.038947</td>\n",
       "      <td>0.0</td>\n",
       "    </tr>\n",
       "    <tr>\n",
       "      <th>...</th>\n",
       "      <th>...</th>\n",
       "      <td>...</td>\n",
       "      <td>...</td>\n",
       "      <td>...</td>\n",
       "    </tr>\n",
       "    <tr>\n",
       "      <th>2020-10-04</th>\n",
       "      <th>23</th>\n",
       "      <td>796</td>\n",
       "      <td>4900.537839</td>\n",
       "      <td>0.0</td>\n",
       "    </tr>\n",
       "    <tr>\n",
       "      <th rowspan=\"4\" valign=\"top\">2020-10-05</th>\n",
       "      <th>0</th>\n",
       "      <td>681</td>\n",
       "      <td>5966.311821</td>\n",
       "      <td>0.0</td>\n",
       "    </tr>\n",
       "    <tr>\n",
       "      <th>1</th>\n",
       "      <td>608</td>\n",
       "      <td>4632.298487</td>\n",
       "      <td>0.0</td>\n",
       "    </tr>\n",
       "    <tr>\n",
       "      <th>2</th>\n",
       "      <td>1049</td>\n",
       "      <td>3203.901830</td>\n",
       "      <td>0.0</td>\n",
       "    </tr>\n",
       "    <tr>\n",
       "      <th>3</th>\n",
       "      <td>891</td>\n",
       "      <td>3593.392570</td>\n",
       "      <td>0.0</td>\n",
       "    </tr>\n",
       "  </tbody>\n",
       "</table>\n",
       "<p>100 rows × 3 columns</p>\n",
       "</div>"
      ],
      "text/plain": [
       "                 JOBID      USEDMEM  TIME_DIFFERENCE\n",
       "Date       Hour                                     \n",
       "2020-10-01 0       421    19.167886              0.0\n",
       "           1      1080    13.272481              0.0\n",
       "           2      1137    14.093026              0.0\n",
       "           3      1018    14.400530              0.0\n",
       "           4      1244   307.038947              0.0\n",
       "...                ...          ...              ...\n",
       "2020-10-04 23      796  4900.537839              0.0\n",
       "2020-10-05 0       681  5966.311821              0.0\n",
       "           1       608  4632.298487              0.0\n",
       "           2      1049  3203.901830              0.0\n",
       "           3       891  3593.392570              0.0\n",
       "\n",
       "[100 rows x 3 columns]"
      ]
     },
     "execution_count": 46,
     "metadata": {},
     "output_type": "execute_result"
    }
   ],
   "source": [
    "typical_day_count.head(100)"
   ]
  },
  {
   "cell_type": "code",
   "execution_count": 47,
   "id": "854b53b1-5b31-49a7-8435-0faa970eb417",
   "metadata": {},
   "outputs": [
    {
     "data": {
      "text/plain": [
       "<Axes: xlabel='JOBID', ylabel='Count'>"
      ]
     },
     "execution_count": 47,
     "metadata": {},
     "output_type": "execute_result"
    },
    {
     "data": {
      "image/png": "[encoded data removed]",
      "text/plain": [
       "<Figure size 640x480 with 1 Axes>"
      ]
     },
     "metadata": {},
     "output_type": "display_data"
    }
   ],
   "source": [
    "sns.histplot(data = typical_day_count, x='JOBID')"
   ]
  },
  {
   "cell_type": "code",
   "execution_count": 48,
   "id": "00e61bb6-cd9c-45c4-8afe-0ab01f509429",
   "metadata": {},
   "outputs": [
    {
     "data": {
      "text/html": [
       "<div>\n",
       "<style scoped>\n",
       "    .dataframe tbody tr th:only-of-type {\n",
       "        vertical-align: middle;\n",
       "    }\n",
       "\n",
       "    .dataframe tbody tr th {\n",
       "        vertical-align: top;\n",
       "    }\n",
       "\n",
       "    .dataframe thead th {\n",
       "        text-align: right;\n",
       "    }\n",
       "</style>\n",
       "<table border=\"1\" class=\"dataframe\">\n",
       "  <thead>\n",
       "    <tr style=\"text-align: right;\">\n",
       "      <th></th>\n",
       "      <th></th>\n",
       "      <th>JOBID</th>\n",
       "      <th>USEDMEM</th>\n",
       "      <th>TIME_DIFFERENCE</th>\n",
       "    </tr>\n",
       "    <tr>\n",
       "      <th>Date</th>\n",
       "      <th>Hour</th>\n",
       "      <th></th>\n",
       "      <th></th>\n",
       "      <th></th>\n",
       "    </tr>\n",
       "  </thead>\n",
       "  <tbody>\n",
       "    <tr>\n",
       "      <th rowspan=\"2\" valign=\"top\">2020-10-01</th>\n",
       "      <th>0</th>\n",
       "      <td>421</td>\n",
       "      <td>19.167886</td>\n",
       "      <td>0.0</td>\n",
       "    </tr>\n",
       "    <tr>\n",
       "      <th>1</th>\n",
       "      <td>1080</td>\n",
       "      <td>13.272481</td>\n",
       "      <td>0.0</td>\n",
       "    </tr>\n",
       "  </tbody>\n",
       "</table>\n",
       "</div>"
      ],
      "text/plain": [
       "                 JOBID    USEDMEM  TIME_DIFFERENCE\n",
       "Date       Hour                                   \n",
       "2020-10-01 0       421  19.167886              0.0\n",
       "           1      1080  13.272481              0.0"
      ]
     },
     "execution_count": 48,
     "metadata": {},
     "output_type": "execute_result"
    }
   ],
   "source": [
    "typical_day_count.head(2)"
   ]
  },
  {
   "cell_type": "code",
   "execution_count": 49,
   "id": "7ae65131-1d38-42e5-aee4-75d808b16d14",
   "metadata": {},
   "outputs": [
    {
     "data": {
      "text/html": [
       "<div>\n",
       "<style scoped>\n",
       "    .dataframe tbody tr th:only-of-type {\n",
       "        vertical-align: middle;\n",
       "    }\n",
       "\n",
       "    .dataframe tbody tr th {\n",
       "        vertical-align: top;\n",
       "    }\n",
       "\n",
       "    .dataframe thead th {\n",
       "        text-align: right;\n",
       "    }\n",
       "</style>\n",
       "<table border=\"1\" class=\"dataframe\">\n",
       "  <thead>\n",
       "    <tr style=\"text-align: right;\">\n",
       "      <th></th>\n",
       "      <th>Date</th>\n",
       "      <th>Time</th>\n",
       "      <th>User</th>\n",
       "      <th>Retry</th>\n",
       "      <th>Length_of_Time</th>\n",
       "      <th>ReturnCode</th>\n",
       "      <th>Command</th>\n",
       "      <th>Server</th>\n",
       "      <th>DateTime</th>\n",
       "    </tr>\n",
       "  </thead>\n",
       "  <tbody>\n",
       "    <tr>\n",
       "      <th>0</th>\n",
       "      <td>2020-10-18</td>\n",
       "      <td>06:16:25</td>\n",
       "      <td>user 9204</td>\n",
       "      <td>retry 0</td>\n",
       "      <td>20.037672</td>\n",
       "      <td>returncode 1</td>\n",
       "      <td>command ['/usr/bin/sbatch', '/tmp/condor_g_scr...</td>\n",
       "      <td>ce6</td>\n",
       "      <td>2020-10-18 06:16:25</td>\n",
       "    </tr>\n",
       "    <tr>\n",
       "      <th>1</th>\n",
       "      <td>2020-10-18</td>\n",
       "      <td>06:38:44</td>\n",
       "      <td>user 9204</td>\n",
       "      <td>retry 0</td>\n",
       "      <td>20.038736</td>\n",
       "      <td>returncode 1</td>\n",
       "      <td>command ['/usr/bin/sbatch', '/tmp/condor_g_scr...</td>\n",
       "      <td>ce6</td>\n",
       "      <td>2020-10-18 06:38:44</td>\n",
       "    </tr>\n",
       "  </tbody>\n",
       "</table>\n",
       "</div>"
      ],
      "text/plain": [
       "         Date      Time       User    Retry  Length_of_Time    ReturnCode  \\\n",
       "0  2020-10-18  06:16:25  user 9204  retry 0       20.037672  returncode 1   \n",
       "1  2020-10-18  06:38:44  user 9204  retry 0       20.038736  returncode 1   \n",
       "\n",
       "                                             Command Server  \\\n",
       "0  command ['/usr/bin/sbatch', '/tmp/condor_g_scr...    ce6   \n",
       "1  command ['/usr/bin/sbatch', '/tmp/condor_g_scr...    ce6   \n",
       "\n",
       "             DateTime  \n",
       "0 2020-10-18 06:16:25  \n",
       "1 2020-10-18 06:38:44  "
      ]
     },
     "execution_count": 49,
     "metadata": {},
     "output_type": "execute_result"
    }
   ],
   "source": [
    "user_ninety_two_oh_four_failures.head(2)"
   ]
  },
  {
   "cell_type": "markdown",
   "id": "721ed3b8-2fc2-4a22-9e86-a08d30ce42c4",
   "metadata": {},
   "source": [
    "## 9204 User Failures by typical failures"
   ]
  },
  {
   "cell_type": "code",
   "execution_count": 51,
   "id": "b04a37cf-f50d-429c-93ed-7a87ae9873fc",
   "metadata": {},
   "outputs": [],
   "source": [
    "typical_day_count_user = user_ninety_two_oh_four_failures.groupby([user_ninety_two_oh_four_failures['DateTime'].dt.date, user_ninety_two_oh_four_failures['DateTime'].dt.hour])['User'].size()\n",
    "typical_day_count_user.index.names = ['Date', 'Hour']"
   ]
  },
  {
   "cell_type": "code",
   "execution_count": 52,
   "id": "3d01c6b4-0bf8-4ffd-81f9-734b02b65aa8",
   "metadata": {},
   "outputs": [],
   "source": [
    "typical_day_count_user.head()\n",
    "typical_day_vs_userfailures = pd.merge(typical_day_count,typical_day_count_user , left_index=True,right_index=True, how = 'outer')"
   ]
  },
  {
   "cell_type": "code",
   "execution_count": 53,
   "id": "3f6538c8-2993-4f69-ae69-f55dabb481d8",
   "metadata": {},
   "outputs": [
    {
     "data": {
      "text/html": [
       "<div>\n",
       "<style scoped>\n",
       "    .dataframe tbody tr th:only-of-type {\n",
       "        vertical-align: middle;\n",
       "    }\n",
       "\n",
       "    .dataframe tbody tr th {\n",
       "        vertical-align: top;\n",
       "    }\n",
       "\n",
       "    .dataframe thead th {\n",
       "        text-align: right;\n",
       "    }\n",
       "</style>\n",
       "<table border=\"1\" class=\"dataframe\">\n",
       "  <thead>\n",
       "    <tr style=\"text-align: right;\">\n",
       "      <th></th>\n",
       "      <th></th>\n",
       "      <th>JOBID</th>\n",
       "      <th>USEDMEM</th>\n",
       "      <th>TIME_DIFFERENCE</th>\n",
       "      <th>User</th>\n",
       "    </tr>\n",
       "    <tr>\n",
       "      <th>Date</th>\n",
       "      <th>Hour</th>\n",
       "      <th></th>\n",
       "      <th></th>\n",
       "      <th></th>\n",
       "      <th></th>\n",
       "    </tr>\n",
       "  </thead>\n",
       "  <tbody>\n",
       "    <tr>\n",
       "      <th rowspan=\"2\" valign=\"top\">2020-10-01</th>\n",
       "      <th>0</th>\n",
       "      <td>421.0</td>\n",
       "      <td>19.167886</td>\n",
       "      <td>0.0</td>\n",
       "      <td>NaN</td>\n",
       "    </tr>\n",
       "    <tr>\n",
       "      <th>1</th>\n",
       "      <td>1080.0</td>\n",
       "      <td>13.272481</td>\n",
       "      <td>0.0</td>\n",
       "      <td>NaN</td>\n",
       "    </tr>\n",
       "  </tbody>\n",
       "</table>\n",
       "</div>"
      ],
      "text/plain": [
       "                  JOBID    USEDMEM  TIME_DIFFERENCE  User\n",
       "Date       Hour                                          \n",
       "2020-10-01 0      421.0  19.167886              0.0   NaN\n",
       "           1     1080.0  13.272481              0.0   NaN"
      ]
     },
     "execution_count": 53,
     "metadata": {},
     "output_type": "execute_result"
    }
   ],
   "source": [
    "typical_day_vs_userfailures.head(2)"
   ]
  },
  {
   "cell_type": "markdown",
   "id": "e2aa2ae8-ddf1-478e-af96-45a287fb5290",
   "metadata": {},
   "source": [
    "<h3>Created Dataframe Based on Pass or Fail by Date/Hour</h3>"
   ]
  },
  {
   "cell_type": "code",
   "execution_count": 55,
   "id": "96579127-61ba-4de8-8fdd-3b83f18ca267",
   "metadata": {},
   "outputs": [],
   "source": [
    "typical_day_vs_userfailures['fail_or_not'] = typical_day_vs_userfailures['User'].apply(lambda x: 1 if x > 0 else 0)"
   ]
  },
  {
   "cell_type": "code",
   "execution_count": 56,
   "id": "edd46c0d-a9ec-4a6e-be53-480d555529fe",
   "metadata": {},
   "outputs": [
    {
     "data": {
      "text/html": [
       "<div>\n",
       "<style scoped>\n",
       "    .dataframe tbody tr th:only-of-type {\n",
       "        vertical-align: middle;\n",
       "    }\n",
       "\n",
       "    .dataframe tbody tr th {\n",
       "        vertical-align: top;\n",
       "    }\n",
       "\n",
       "    .dataframe thead th {\n",
       "        text-align: right;\n",
       "    }\n",
       "</style>\n",
       "<table border=\"1\" class=\"dataframe\">\n",
       "  <thead>\n",
       "    <tr style=\"text-align: right;\">\n",
       "      <th></th>\n",
       "      <th></th>\n",
       "      <th>JOBID</th>\n",
       "      <th>USEDMEM</th>\n",
       "      <th>TIME_DIFFERENCE</th>\n",
       "      <th>User</th>\n",
       "      <th>fail_or_not</th>\n",
       "    </tr>\n",
       "    <tr>\n",
       "      <th>Date</th>\n",
       "      <th>Hour</th>\n",
       "      <th></th>\n",
       "      <th></th>\n",
       "      <th></th>\n",
       "      <th></th>\n",
       "      <th></th>\n",
       "    </tr>\n",
       "  </thead>\n",
       "  <tbody>\n",
       "    <tr>\n",
       "      <th rowspan=\"2\" valign=\"top\">2020-10-01</th>\n",
       "      <th>0</th>\n",
       "      <td>421.0</td>\n",
       "      <td>19.167886</td>\n",
       "      <td>0.0</td>\n",
       "      <td>NaN</td>\n",
       "      <td>0</td>\n",
       "    </tr>\n",
       "    <tr>\n",
       "      <th>1</th>\n",
       "      <td>1080.0</td>\n",
       "      <td>13.272481</td>\n",
       "      <td>0.0</td>\n",
       "      <td>NaN</td>\n",
       "      <td>0</td>\n",
       "    </tr>\n",
       "  </tbody>\n",
       "</table>\n",
       "</div>"
      ],
      "text/plain": [
       "                  JOBID    USEDMEM  TIME_DIFFERENCE  User  fail_or_not\n",
       "Date       Hour                                                       \n",
       "2020-10-01 0      421.0  19.167886              0.0   NaN            0\n",
       "           1     1080.0  13.272481              0.0   NaN            0"
      ]
     },
     "execution_count": 56,
     "metadata": {},
     "output_type": "execute_result"
    }
   ],
   "source": [
    "typical_day_vs_userfailures.head(2)"
   ]
  },
  {
   "cell_type": "code",
   "execution_count": 57,
   "id": "9e11100d-1148-48ef-a26f-817184d6fe5a",
   "metadata": {},
   "outputs": [],
   "source": [
    "import statsmodels.formula.api as smf"
   ]
  },
  {
   "cell_type": "code",
   "execution_count": 58,
   "id": "9345da95-91bd-4d48-ace4-2cb539caca59",
   "metadata": {},
   "outputs": [
    {
     "name": "stdout",
     "output_type": "stream",
     "text": [
      "Optimization terminated successfully.\n",
      "         Current function value: 0.422717\n",
      "         Iterations 6\n"
     ]
    }
   ],
   "source": [
    "tdvuf_logreg = smf.logit(\"fail_or_not ~ USEDMEM\",\n",
    "                          data = typical_day_vs_userfailures).fit()"
   ]
  },
  {
   "cell_type": "code",
   "execution_count": 59,
   "id": "121a624b-1acf-4be2-a907-3e45ba1e1d81",
   "metadata": {},
   "outputs": [
    {
     "data": {
      "text/plain": [
       "Intercept   -1.566412\n",
       "USEDMEM     -0.000039\n",
       "dtype: float64"
      ]
     },
     "execution_count": 59,
     "metadata": {},
     "output_type": "execute_result"
    }
   ],
   "source": [
    "tdvuf_logreg.params"
   ]
  },
  {
   "cell_type": "code",
   "execution_count": 60,
   "id": "b4985adb-97ba-4924-a91c-6e760936f73d",
   "metadata": {},
   "outputs": [
    {
     "data": {
      "text/html": [
       "<table class=\"simpletable\">\n",
       "<caption>Logit Regression Results</caption>\n",
       "<tr>\n",
       "  <th>Dep. Variable:</th>      <td>fail_or_not</td>   <th>  No. Observations:  </th>  <td>  8922</td>  \n",
       "</tr>\n",
       "<tr>\n",
       "  <th>Model:</th>                 <td>Logit</td>      <th>  Df Residuals:      </th>  <td>  8920</td>  \n",
       "</tr>\n",
       "<tr>\n",
       "  <th>Method:</th>                 <td>MLE</td>       <th>  Df Model:          </th>  <td>     1</td>  \n",
       "</tr>\n",
       "<tr>\n",
       "  <th>Date:</th>            <td>Tue, 03 Dec 2024</td> <th>  Pseudo R-squ.:     </th> <td>0.003503</td> \n",
       "</tr>\n",
       "<tr>\n",
       "  <th>Time:</th>                <td>00:56:35</td>     <th>  Log-Likelihood:    </th> <td> -3771.5</td> \n",
       "</tr>\n",
       "<tr>\n",
       "  <th>converged:</th>             <td>True</td>       <th>  LL-Null:           </th> <td> -3784.7</td> \n",
       "</tr>\n",
       "<tr>\n",
       "  <th>Covariance Type:</th>     <td>nonrobust</td>    <th>  LLR p-value:       </th> <td>2.613e-07</td>\n",
       "</tr>\n",
       "</table>\n",
       "<table class=\"simpletable\">\n",
       "<tr>\n",
       "      <td></td>         <th>coef</th>     <th>std err</th>      <th>z</th>      <th>P>|z|</th>  <th>[0.025</th>    <th>0.975]</th>  \n",
       "</tr>\n",
       "<tr>\n",
       "  <th>Intercept</th> <td>   -1.5664</td> <td>    0.044</td> <td>  -35.844</td> <td> 0.000</td> <td>   -1.652</td> <td>   -1.481</td>\n",
       "</tr>\n",
       "<tr>\n",
       "  <th>USEDMEM</th>   <td>-3.914e-05</td> <td> 8.24e-06</td> <td>   -4.748</td> <td> 0.000</td> <td>-5.53e-05</td> <td> -2.3e-05</td>\n",
       "</tr>\n",
       "</table>"
      ],
      "text/latex": [
       "\\begin{center}\n",
       "\\begin{tabular}{lclc}\n",
       "\\toprule\n",
       "\\textbf{Dep. Variable:}   &  fail\\_or\\_not   & \\textbf{  No. Observations:  } &     8922    \\\\\n",
       "\\textbf{Model:}           &      Logit       & \\textbf{  Df Residuals:      } &     8920    \\\\\n",
       "\\textbf{Method:}          &       MLE        & \\textbf{  Df Model:          } &        1    \\\\\n",
       "\\textbf{Date:}            & Tue, 03 Dec 2024 & \\textbf{  Pseudo R-squ.:     } &  0.003503   \\\\\n",
       "\\textbf{Time:}            &     00:56:35     & \\textbf{  Log-Likelihood:    } &   -3771.5   \\\\\n",
       "\\textbf{converged:}       &       True       & \\textbf{  LL-Null:           } &   -3784.7   \\\\\n",
       "\\textbf{Covariance Type:} &    nonrobust     & \\textbf{  LLR p-value:       } & 2.613e-07   \\\\\n",
       "\\bottomrule\n",
       "\\end{tabular}\n",
       "\\begin{tabular}{lcccccc}\n",
       "                   & \\textbf{coef} & \\textbf{std err} & \\textbf{z} & \\textbf{P$> |$z$|$} & \\textbf{[0.025} & \\textbf{0.975]}  \\\\\n",
       "\\midrule\n",
       "\\textbf{Intercept} &      -1.5664  &        0.044     &   -35.844  &         0.000        &       -1.652    &       -1.481     \\\\\n",
       "\\textbf{USEDMEM}   &   -3.914e-05  &     8.24e-06     &    -4.748  &         0.000        &    -5.53e-05    &     -2.3e-05     \\\\\n",
       "\\bottomrule\n",
       "\\end{tabular}\n",
       "%\\caption{Logit Regression Results}\n",
       "\\end{center}"
      ],
      "text/plain": [
       "<class 'statsmodels.iolib.summary.Summary'>\n",
       "\"\"\"\n",
       "                           Logit Regression Results                           \n",
       "==============================================================================\n",
       "Dep. Variable:            fail_or_not   No. Observations:                 8922\n",
       "Model:                          Logit   Df Residuals:                     8920\n",
       "Method:                           MLE   Df Model:                            1\n",
       "Date:                Tue, 03 Dec 2024   Pseudo R-squ.:                0.003503\n",
       "Time:                        00:56:35   Log-Likelihood:                -3771.5\n",
       "converged:                       True   LL-Null:                       -3784.7\n",
       "Covariance Type:            nonrobust   LLR p-value:                 2.613e-07\n",
       "==============================================================================\n",
       "                 coef    std err          z      P>|z|      [0.025      0.975]\n",
       "------------------------------------------------------------------------------\n",
       "Intercept     -1.5664      0.044    -35.844      0.000      -1.652      -1.481\n",
       "USEDMEM    -3.914e-05   8.24e-06     -4.748      0.000   -5.53e-05    -2.3e-05\n",
       "==============================================================================\n",
       "\"\"\""
      ]
     },
     "execution_count": 60,
     "metadata": {},
     "output_type": "execute_result"
    }
   ],
   "source": [
    "tdvuf_logreg.summary()"
   ]
  },
  {
   "cell_type": "code",
   "execution_count": 61,
   "id": "c1d9b389-37ab-4aac-84c2-1c4d393e1909",
   "metadata": {},
   "outputs": [
    {
     "data": {
      "text/html": [
       "<div>\n",
       "<style scoped>\n",
       "    .dataframe tbody tr th:only-of-type {\n",
       "        vertical-align: middle;\n",
       "    }\n",
       "\n",
       "    .dataframe tbody tr th {\n",
       "        vertical-align: top;\n",
       "    }\n",
       "\n",
       "    .dataframe thead th {\n",
       "        text-align: right;\n",
       "    }\n",
       "</style>\n",
       "<table border=\"1\" class=\"dataframe\">\n",
       "  <thead>\n",
       "    <tr style=\"text-align: right;\">\n",
       "      <th></th>\n",
       "      <th>group</th>\n",
       "      <th>USEDMEM</th>\n",
       "      <th>eprob</th>\n",
       "    </tr>\n",
       "  </thead>\n",
       "  <tbody>\n",
       "    <tr>\n",
       "      <th>0</th>\n",
       "      <td>(0.0215, 971.042]</td>\n",
       "      <td>540.164848</td>\n",
       "      <td>0.119821</td>\n",
       "    </tr>\n",
       "    <tr>\n",
       "      <th>1</th>\n",
       "      <td>(971.042, 1542.35]</td>\n",
       "      <td>1262.921288</td>\n",
       "      <td>0.199552</td>\n",
       "    </tr>\n",
       "    <tr>\n",
       "      <th>2</th>\n",
       "      <td>(1542.35, 2067.928]</td>\n",
       "      <td>1800.783569</td>\n",
       "      <td>0.187220</td>\n",
       "    </tr>\n",
       "    <tr>\n",
       "      <th>3</th>\n",
       "      <td>(2067.928, 2614.637]</td>\n",
       "      <td>2338.636565</td>\n",
       "      <td>0.179372</td>\n",
       "    </tr>\n",
       "    <tr>\n",
       "      <th>4</th>\n",
       "      <td>(2614.637, 3186.459]</td>\n",
       "      <td>2899.907741</td>\n",
       "      <td>0.164798</td>\n",
       "    </tr>\n",
       "    <tr>\n",
       "      <th>5</th>\n",
       "      <td>(3186.459, 3826.316]</td>\n",
       "      <td>3502.047528</td>\n",
       "      <td>0.155830</td>\n",
       "    </tr>\n",
       "    <tr>\n",
       "      <th>6</th>\n",
       "      <td>(3826.316, 4678.698]</td>\n",
       "      <td>4239.202422</td>\n",
       "      <td>0.156951</td>\n",
       "    </tr>\n",
       "    <tr>\n",
       "      <th>7</th>\n",
       "      <td>(4678.698, 6111.48]</td>\n",
       "      <td>5331.075752</td>\n",
       "      <td>0.139013</td>\n",
       "    </tr>\n",
       "    <tr>\n",
       "      <th>8</th>\n",
       "      <td>(6111.48, 8978.479]</td>\n",
       "      <td>7311.163508</td>\n",
       "      <td>0.115471</td>\n",
       "    </tr>\n",
       "    <tr>\n",
       "      <th>9</th>\n",
       "      <td>(8978.479, 125438.19]</td>\n",
       "      <td>14656.189087</td>\n",
       "      <td>0.090705</td>\n",
       "    </tr>\n",
       "  </tbody>\n",
       "</table>\n",
       "</div>"
      ],
      "text/plain": [
       "                   group       USEDMEM     eprob\n",
       "0      (0.0215, 971.042]    540.164848  0.119821\n",
       "1     (971.042, 1542.35]   1262.921288  0.199552\n",
       "2    (1542.35, 2067.928]   1800.783569  0.187220\n",
       "3   (2067.928, 2614.637]   2338.636565  0.179372\n",
       "4   (2614.637, 3186.459]   2899.907741  0.164798\n",
       "5   (3186.459, 3826.316]   3502.047528  0.155830\n",
       "6   (3826.316, 4678.698]   4239.202422  0.156951\n",
       "7    (4678.698, 6111.48]   5331.075752  0.139013\n",
       "8    (6111.48, 8978.479]   7311.163508  0.115471\n",
       "9  (8978.479, 125438.19]  14656.189087  0.090705"
      ]
     },
     "execution_count": 61,
     "metadata": {},
     "output_type": "execute_result"
    }
   ],
   "source": [
    "tdvuf_summary = (\n",
    "    typical_day_vs_userfailures\n",
    "    .assign(group = pd.qcut(typical_day_vs_userfailures['USEDMEM'], \n",
    "                            q = 10, \n",
    "                            duplicates = 'drop'))\n",
    "    .groupby('group', observed = False)\n",
    "    [['USEDMEM', 'fail_or_not']]\n",
    "    .mean()\n",
    "    .reset_index()\n",
    "    .rename(columns = {'fail_or_not': 'eprob'})\n",
    ")\n",
    "tdvuf_summary"
   ]
  },
  {
   "cell_type": "code",
   "execution_count": 62,
   "id": "631f7320-c9f8-475f-920a-0141dec979b2",
   "metadata": {},
   "outputs": [
    {
     "data": {
      "text/html": [
       "<div>\n",
       "<style scoped>\n",
       "    .dataframe tbody tr th:only-of-type {\n",
       "        vertical-align: middle;\n",
       "    }\n",
       "\n",
       "    .dataframe tbody tr th {\n",
       "        vertical-align: top;\n",
       "    }\n",
       "\n",
       "    .dataframe thead th {\n",
       "        text-align: right;\n",
       "    }\n",
       "</style>\n",
       "<table border=\"1\" class=\"dataframe\">\n",
       "  <thead>\n",
       "    <tr style=\"text-align: right;\">\n",
       "      <th></th>\n",
       "      <th>group</th>\n",
       "      <th>USEDMEM</th>\n",
       "      <th>eprob</th>\n",
       "      <th>fit_prob</th>\n",
       "    </tr>\n",
       "  </thead>\n",
       "  <tbody>\n",
       "    <tr>\n",
       "      <th>0</th>\n",
       "      <td>(0.0215, 971.042]</td>\n",
       "      <td>540.164848</td>\n",
       "      <td>0.119821</td>\n",
       "      <td>0.169728</td>\n",
       "    </tr>\n",
       "    <tr>\n",
       "      <th>1</th>\n",
       "      <td>(971.042, 1542.35]</td>\n",
       "      <td>1262.921288</td>\n",
       "      <td>0.199552</td>\n",
       "      <td>0.165779</td>\n",
       "    </tr>\n",
       "    <tr>\n",
       "      <th>2</th>\n",
       "      <td>(1542.35, 2067.928]</td>\n",
       "      <td>1800.783569</td>\n",
       "      <td>0.187220</td>\n",
       "      <td>0.162888</td>\n",
       "    </tr>\n",
       "    <tr>\n",
       "      <th>3</th>\n",
       "      <td>(2067.928, 2614.637]</td>\n",
       "      <td>2338.636565</td>\n",
       "      <td>0.179372</td>\n",
       "      <td>0.160038</td>\n",
       "    </tr>\n",
       "    <tr>\n",
       "      <th>4</th>\n",
       "      <td>(2614.637, 3186.459]</td>\n",
       "      <td>2899.907741</td>\n",
       "      <td>0.164798</td>\n",
       "      <td>0.157107</td>\n",
       "    </tr>\n",
       "    <tr>\n",
       "      <th>5</th>\n",
       "      <td>(3186.459, 3826.316]</td>\n",
       "      <td>3502.047528</td>\n",
       "      <td>0.155830</td>\n",
       "      <td>0.154011</td>\n",
       "    </tr>\n",
       "    <tr>\n",
       "      <th>6</th>\n",
       "      <td>(3826.316, 4678.698]</td>\n",
       "      <td>4239.202422</td>\n",
       "      <td>0.156951</td>\n",
       "      <td>0.150290</td>\n",
       "    </tr>\n",
       "    <tr>\n",
       "      <th>7</th>\n",
       "      <td>(4678.698, 6111.48]</td>\n",
       "      <td>5331.075752</td>\n",
       "      <td>0.139013</td>\n",
       "      <td>0.144914</td>\n",
       "    </tr>\n",
       "    <tr>\n",
       "      <th>8</th>\n",
       "      <td>(6111.48, 8978.479]</td>\n",
       "      <td>7311.163508</td>\n",
       "      <td>0.115471</td>\n",
       "      <td>0.135572</td>\n",
       "    </tr>\n",
       "    <tr>\n",
       "      <th>9</th>\n",
       "      <td>(8978.479, 125438.19]</td>\n",
       "      <td>14656.189087</td>\n",
       "      <td>0.090705</td>\n",
       "      <td>0.105265</td>\n",
       "    </tr>\n",
       "  </tbody>\n",
       "</table>\n",
       "</div>"
      ],
      "text/plain": [
       "                   group       USEDMEM     eprob  fit_prob\n",
       "0      (0.0215, 971.042]    540.164848  0.119821  0.169728\n",
       "1     (971.042, 1542.35]   1262.921288  0.199552  0.165779\n",
       "2    (1542.35, 2067.928]   1800.783569  0.187220  0.162888\n",
       "3   (2067.928, 2614.637]   2338.636565  0.179372  0.160038\n",
       "4   (2614.637, 3186.459]   2899.907741  0.164798  0.157107\n",
       "5   (3186.459, 3826.316]   3502.047528  0.155830  0.154011\n",
       "6   (3826.316, 4678.698]   4239.202422  0.156951  0.150290\n",
       "7    (4678.698, 6111.48]   5331.075752  0.139013  0.144914\n",
       "8    (6111.48, 8978.479]   7311.163508  0.115471  0.135572\n",
       "9  (8978.479, 125438.19]  14656.189087  0.090705  0.105265"
      ]
     },
     "execution_count": 62,
     "metadata": {},
     "output_type": "execute_result"
    }
   ],
   "source": [
    "tdvuf_summary['fit_prob'] = tdvuf_logreg.predict(tdvuf_summary[['USEDMEM']])\n",
    "tdvuf_summary"
   ]
  },
  {
   "cell_type": "code",
   "execution_count": 63,
   "id": "62d843af-bb33-4fb0-bafc-3126a591004b",
   "metadata": {},
   "outputs": [
    {
     "data": {
      "image/png": "[encoded data removed]",
      "text/plain": [
       "<Figure size 640x480 with 1 Axes>"
      ]
     },
     "metadata": {},
     "output_type": "display_data"
    }
   ],
   "source": [
    "ax = tdvuf_summary.plot(x = 'USEDMEM', y = 'eprob')\n",
    "tdvuf_summary.plot(x = 'USEDMEM', y = 'fit_prob',\n",
    "                color = 'black',\n",
    "                ax = ax);"
   ]
  },
  {
   "cell_type": "code",
   "execution_count": 64,
   "id": "d3b4960f-4961-4885-9929-07261d091352",
   "metadata": {},
   "outputs": [
    {
     "name": "stdout",
     "output_type": "stream",
     "text": [
      "Optimization terminated successfully.\n",
      "         Current function value: 0.424044\n",
      "         Iterations 6\n"
     ]
    }
   ],
   "source": [
    "tdvuf_logreg2 = smf.logit(\"fail_or_not ~ JOBID\",\n",
    "                          data = typical_day_vs_userfailures).fit()"
   ]
  },
  {
   "cell_type": "code",
   "execution_count": 65,
   "id": "13eeb094-c079-4ece-9833-67b8b4b0120e",
   "metadata": {},
   "outputs": [
    {
     "data": {
      "text/plain": [
       "Intercept   -1.761688\n",
       "JOBID        0.000040\n",
       "dtype: float64"
      ]
     },
     "execution_count": 65,
     "metadata": {},
     "output_type": "execute_result"
    }
   ],
   "source": [
    "tdvuf_logreg2.params"
   ]
  },
  {
   "cell_type": "code",
   "execution_count": 66,
   "id": "686ae13f-5549-40a9-89dc-4ead32dc7f4a",
   "metadata": {},
   "outputs": [
    {
     "data": {
      "text/html": [
       "<table class=\"simpletable\">\n",
       "<caption>Logit Regression Results</caption>\n",
       "<tr>\n",
       "  <th>Dep. Variable:</th>      <td>fail_or_not</td>   <th>  No. Observations:  </th>  <td>  8922</td>  \n",
       "</tr>\n",
       "<tr>\n",
       "  <th>Model:</th>                 <td>Logit</td>      <th>  Df Residuals:      </th>  <td>  8920</td>  \n",
       "</tr>\n",
       "<tr>\n",
       "  <th>Method:</th>                 <td>MLE</td>       <th>  Df Model:          </th>  <td>     1</td>  \n",
       "</tr>\n",
       "<tr>\n",
       "  <th>Date:</th>            <td>Tue, 03 Dec 2024</td> <th>  Pseudo R-squ.:     </th> <td>0.0003757</td>\n",
       "</tr>\n",
       "<tr>\n",
       "  <th>Time:</th>                <td>00:56:35</td>     <th>  Log-Likelihood:    </th> <td> -3783.3</td> \n",
       "</tr>\n",
       "<tr>\n",
       "  <th>converged:</th>             <td>True</td>       <th>  LL-Null:           </th> <td> -3784.7</td> \n",
       "</tr>\n",
       "<tr>\n",
       "  <th>Covariance Type:</th>     <td>nonrobust</td>    <th>  LLR p-value:       </th>  <td>0.09173</td> \n",
       "</tr>\n",
       "</table>\n",
       "<table class=\"simpletable\">\n",
       "<tr>\n",
       "      <td></td>         <th>coef</th>     <th>std err</th>      <th>z</th>      <th>P>|z|</th>  <th>[0.025</th>    <th>0.975]</th>  \n",
       "</tr>\n",
       "<tr>\n",
       "  <th>Intercept</th> <td>   -1.7617</td> <td>    0.036</td> <td>  -49.281</td> <td> 0.000</td> <td>   -1.832</td> <td>   -1.692</td>\n",
       "</tr>\n",
       "<tr>\n",
       "  <th>JOBID</th>     <td> 3.995e-05</td> <td> 2.31e-05</td> <td>    1.727</td> <td> 0.084</td> <td>-5.39e-06</td> <td> 8.53e-05</td>\n",
       "</tr>\n",
       "</table>"
      ],
      "text/latex": [
       "\\begin{center}\n",
       "\\begin{tabular}{lclc}\n",
       "\\toprule\n",
       "\\textbf{Dep. Variable:}   &  fail\\_or\\_not   & \\textbf{  No. Observations:  } &     8922    \\\\\n",
       "\\textbf{Model:}           &      Logit       & \\textbf{  Df Residuals:      } &     8920    \\\\\n",
       "\\textbf{Method:}          &       MLE        & \\textbf{  Df Model:          } &        1    \\\\\n",
       "\\textbf{Date:}            & Tue, 03 Dec 2024 & \\textbf{  Pseudo R-squ.:     } & 0.0003757   \\\\\n",
       "\\textbf{Time:}            &     00:56:35     & \\textbf{  Log-Likelihood:    } &   -3783.3   \\\\\n",
       "\\textbf{converged:}       &       True       & \\textbf{  LL-Null:           } &   -3784.7   \\\\\n",
       "\\textbf{Covariance Type:} &    nonrobust     & \\textbf{  LLR p-value:       } &  0.09173    \\\\\n",
       "\\bottomrule\n",
       "\\end{tabular}\n",
       "\\begin{tabular}{lcccccc}\n",
       "                   & \\textbf{coef} & \\textbf{std err} & \\textbf{z} & \\textbf{P$> |$z$|$} & \\textbf{[0.025} & \\textbf{0.975]}  \\\\\n",
       "\\midrule\n",
       "\\textbf{Intercept} &      -1.7617  &        0.036     &   -49.281  &         0.000        &       -1.832    &       -1.692     \\\\\n",
       "\\textbf{JOBID}     &    3.995e-05  &     2.31e-05     &     1.727  &         0.084        &    -5.39e-06    &     8.53e-05     \\\\\n",
       "\\bottomrule\n",
       "\\end{tabular}\n",
       "%\\caption{Logit Regression Results}\n",
       "\\end{center}"
      ],
      "text/plain": [
       "<class 'statsmodels.iolib.summary.Summary'>\n",
       "\"\"\"\n",
       "                           Logit Regression Results                           \n",
       "==============================================================================\n",
       "Dep. Variable:            fail_or_not   No. Observations:                 8922\n",
       "Model:                          Logit   Df Residuals:                     8920\n",
       "Method:                           MLE   Df Model:                            1\n",
       "Date:                Tue, 03 Dec 2024   Pseudo R-squ.:               0.0003757\n",
       "Time:                        00:56:35   Log-Likelihood:                -3783.3\n",
       "converged:                       True   LL-Null:                       -3784.7\n",
       "Covariance Type:            nonrobust   LLR p-value:                   0.09173\n",
       "==============================================================================\n",
       "                 coef    std err          z      P>|z|      [0.025      0.975]\n",
       "------------------------------------------------------------------------------\n",
       "Intercept     -1.7617      0.036    -49.281      0.000      -1.832      -1.692\n",
       "JOBID       3.995e-05   2.31e-05      1.727      0.084   -5.39e-06    8.53e-05\n",
       "==============================================================================\n",
       "\"\"\""
      ]
     },
     "execution_count": 66,
     "metadata": {},
     "output_type": "execute_result"
    }
   ],
   "source": [
    "tdvuf_logreg2.summary()"
   ]
  },
  {
   "cell_type": "code",
   "execution_count": 67,
   "id": "7750102d-eba8-4b80-9f5c-6d50cf5de1d7",
   "metadata": {},
   "outputs": [
    {
     "data": {
      "text/html": [
       "<div>\n",
       "<style scoped>\n",
       "    .dataframe tbody tr th:only-of-type {\n",
       "        vertical-align: middle;\n",
       "    }\n",
       "\n",
       "    .dataframe tbody tr th {\n",
       "        vertical-align: top;\n",
       "    }\n",
       "\n",
       "    .dataframe thead th {\n",
       "        text-align: right;\n",
       "    }\n",
       "</style>\n",
       "<table border=\"1\" class=\"dataframe\">\n",
       "  <thead>\n",
       "    <tr style=\"text-align: right;\">\n",
       "      <th></th>\n",
       "      <th>group</th>\n",
       "      <th>JOBID</th>\n",
       "      <th>eprob</th>\n",
       "    </tr>\n",
       "  </thead>\n",
       "  <tbody>\n",
       "    <tr>\n",
       "      <th>0</th>\n",
       "      <td>(1.999, 122.0]</td>\n",
       "      <td>57.727171</td>\n",
       "      <td>0.087973</td>\n",
       "    </tr>\n",
       "    <tr>\n",
       "      <th>1</th>\n",
       "      <td>(122.0, 209.0]</td>\n",
       "      <td>166.258389</td>\n",
       "      <td>0.134228</td>\n",
       "    </tr>\n",
       "    <tr>\n",
       "      <th>2</th>\n",
       "      <td>(209.0, 290.0]</td>\n",
       "      <td>250.159730</td>\n",
       "      <td>0.147357</td>\n",
       "    </tr>\n",
       "    <tr>\n",
       "      <th>3</th>\n",
       "      <td>(290.0, 382.0]</td>\n",
       "      <td>335.663667</td>\n",
       "      <td>0.147357</td>\n",
       "    </tr>\n",
       "    <tr>\n",
       "      <th>4</th>\n",
       "      <td>(382.0, 487.5]</td>\n",
       "      <td>434.219978</td>\n",
       "      <td>0.150393</td>\n",
       "    </tr>\n",
       "    <tr>\n",
       "      <th>5</th>\n",
       "      <td>(487.5, 611.0]</td>\n",
       "      <td>548.051454</td>\n",
       "      <td>0.155481</td>\n",
       "    </tr>\n",
       "    <tr>\n",
       "      <th>6</th>\n",
       "      <td>(611.0, 783.0]</td>\n",
       "      <td>691.731762</td>\n",
       "      <td>0.175084</td>\n",
       "    </tr>\n",
       "    <tr>\n",
       "      <th>7</th>\n",
       "      <td>(783.0, 1102.8]</td>\n",
       "      <td>920.995511</td>\n",
       "      <td>0.168350</td>\n",
       "    </tr>\n",
       "    <tr>\n",
       "      <th>8</th>\n",
       "      <td>(1102.8, 1753.8]</td>\n",
       "      <td>1374.459641</td>\n",
       "      <td>0.191704</td>\n",
       "    </tr>\n",
       "    <tr>\n",
       "      <th>9</th>\n",
       "      <td>(1753.8, 13346.0]</td>\n",
       "      <td>3491.347144</td>\n",
       "      <td>0.151176</td>\n",
       "    </tr>\n",
       "  </tbody>\n",
       "</table>\n",
       "</div>"
      ],
      "text/plain": [
       "               group        JOBID     eprob\n",
       "0     (1.999, 122.0]    57.727171  0.087973\n",
       "1     (122.0, 209.0]   166.258389  0.134228\n",
       "2     (209.0, 290.0]   250.159730  0.147357\n",
       "3     (290.0, 382.0]   335.663667  0.147357\n",
       "4     (382.0, 487.5]   434.219978  0.150393\n",
       "5     (487.5, 611.0]   548.051454  0.155481\n",
       "6     (611.0, 783.0]   691.731762  0.175084\n",
       "7    (783.0, 1102.8]   920.995511  0.168350\n",
       "8   (1102.8, 1753.8]  1374.459641  0.191704\n",
       "9  (1753.8, 13346.0]  3491.347144  0.151176"
      ]
     },
     "execution_count": 67,
     "metadata": {},
     "output_type": "execute_result"
    }
   ],
   "source": [
    "tdvuf_summary2 = (\n",
    "    typical_day_vs_userfailures\n",
    "    .assign(group = pd.qcut(typical_day_vs_userfailures['JOBID'], \n",
    "                            q = 10, \n",
    "                            duplicates = 'drop'))\n",
    "    .groupby('group', observed = False)\n",
    "    [['JOBID', 'fail_or_not']]\n",
    "    .mean()\n",
    "    .reset_index()\n",
    "    .rename(columns = {'fail_or_not': 'eprob'})\n",
    ")\n",
    "tdvuf_summary2"
   ]
  },
  {
   "cell_type": "code",
   "execution_count": 68,
   "id": "40ed7bbf-89c3-446e-acf3-453ae325b6a7",
   "metadata": {},
   "outputs": [
    {
     "data": {
      "text/html": [
       "<div>\n",
       "<style scoped>\n",
       "    .dataframe tbody tr th:only-of-type {\n",
       "        vertical-align: middle;\n",
       "    }\n",
       "\n",
       "    .dataframe tbody tr th {\n",
       "        vertical-align: top;\n",
       "    }\n",
       "\n",
       "    .dataframe thead th {\n",
       "        text-align: right;\n",
       "    }\n",
       "</style>\n",
       "<table border=\"1\" class=\"dataframe\">\n",
       "  <thead>\n",
       "    <tr style=\"text-align: right;\">\n",
       "      <th></th>\n",
       "      <th>group</th>\n",
       "      <th>JOBID</th>\n",
       "      <th>eprob</th>\n",
       "      <th>fit_prob</th>\n",
       "    </tr>\n",
       "  </thead>\n",
       "  <tbody>\n",
       "    <tr>\n",
       "      <th>0</th>\n",
       "      <td>(1.999, 122.0]</td>\n",
       "      <td>57.727171</td>\n",
       "      <td>0.087973</td>\n",
       "      <td>0.146868</td>\n",
       "    </tr>\n",
       "    <tr>\n",
       "      <th>1</th>\n",
       "      <td>(122.0, 209.0]</td>\n",
       "      <td>166.258389</td>\n",
       "      <td>0.134228</td>\n",
       "      <td>0.147412</td>\n",
       "    </tr>\n",
       "    <tr>\n",
       "      <th>2</th>\n",
       "      <td>(209.0, 290.0]</td>\n",
       "      <td>250.159730</td>\n",
       "      <td>0.147357</td>\n",
       "      <td>0.147834</td>\n",
       "    </tr>\n",
       "    <tr>\n",
       "      <th>3</th>\n",
       "      <td>(290.0, 382.0]</td>\n",
       "      <td>335.663667</td>\n",
       "      <td>0.147357</td>\n",
       "      <td>0.148264</td>\n",
       "    </tr>\n",
       "    <tr>\n",
       "      <th>4</th>\n",
       "      <td>(382.0, 487.5]</td>\n",
       "      <td>434.219978</td>\n",
       "      <td>0.150393</td>\n",
       "      <td>0.148762</td>\n",
       "    </tr>\n",
       "    <tr>\n",
       "      <th>5</th>\n",
       "      <td>(487.5, 611.0]</td>\n",
       "      <td>548.051454</td>\n",
       "      <td>0.155481</td>\n",
       "      <td>0.149339</td>\n",
       "    </tr>\n",
       "    <tr>\n",
       "      <th>6</th>\n",
       "      <td>(611.0, 783.0]</td>\n",
       "      <td>691.731762</td>\n",
       "      <td>0.175084</td>\n",
       "      <td>0.150070</td>\n",
       "    </tr>\n",
       "    <tr>\n",
       "      <th>7</th>\n",
       "      <td>(783.0, 1102.8]</td>\n",
       "      <td>920.995511</td>\n",
       "      <td>0.168350</td>\n",
       "      <td>0.151242</td>\n",
       "    </tr>\n",
       "    <tr>\n",
       "      <th>8</th>\n",
       "      <td>(1102.8, 1753.8]</td>\n",
       "      <td>1374.459641</td>\n",
       "      <td>0.191704</td>\n",
       "      <td>0.153582</td>\n",
       "    </tr>\n",
       "    <tr>\n",
       "      <th>9</th>\n",
       "      <td>(1753.8, 13346.0]</td>\n",
       "      <td>3491.347144</td>\n",
       "      <td>0.151176</td>\n",
       "      <td>0.164899</td>\n",
       "    </tr>\n",
       "  </tbody>\n",
       "</table>\n",
       "</div>"
      ],
      "text/plain": [
       "               group        JOBID     eprob  fit_prob\n",
       "0     (1.999, 122.0]    57.727171  0.087973  0.146868\n",
       "1     (122.0, 209.0]   166.258389  0.134228  0.147412\n",
       "2     (209.0, 290.0]   250.159730  0.147357  0.147834\n",
       "3     (290.0, 382.0]   335.663667  0.147357  0.148264\n",
       "4     (382.0, 487.5]   434.219978  0.150393  0.148762\n",
       "5     (487.5, 611.0]   548.051454  0.155481  0.149339\n",
       "6     (611.0, 783.0]   691.731762  0.175084  0.150070\n",
       "7    (783.0, 1102.8]   920.995511  0.168350  0.151242\n",
       "8   (1102.8, 1753.8]  1374.459641  0.191704  0.153582\n",
       "9  (1753.8, 13346.0]  3491.347144  0.151176  0.164899"
      ]
     },
     "execution_count": 68,
     "metadata": {},
     "output_type": "execute_result"
    }
   ],
   "source": [
    "tdvuf_summary2['fit_prob'] = tdvuf_logreg2.predict(tdvuf_summary2[['JOBID']])\n",
    "tdvuf_summary2"
   ]
  },
  {
   "cell_type": "code",
   "execution_count": 69,
   "id": "3ef155d9-e252-4346-8b00-94b360bf7cdf",
   "metadata": {},
   "outputs": [
    {
     "data": {
      "image/png": "[encoded data removed]",
      "text/plain": [
       "<Figure size 640x480 with 1 Axes>"
      ]
     },
     "metadata": {},
     "output_type": "display_data"
    }
   ],
   "source": [
    "ax = tdvuf_summary2.plot(x = 'JOBID', y = 'eprob')\n",
    "tdvuf_summary2.plot(x = 'JOBID', y = 'fit_prob',\n",
    "                color = 'black',\n",
    "                ax = ax);"
   ]
  },
  {
   "cell_type": "code",
   "execution_count": 70,
   "id": "c093db03-ffd8-4936-ba83-9b954b6e091d",
   "metadata": {},
   "outputs": [
    {
     "name": "stdout",
     "output_type": "stream",
     "text": [
      "Optimization terminated successfully.\n",
      "         Current function value: 0.424118\n",
      "         Iterations 6\n"
     ]
    }
   ],
   "source": [
    "tdvuf_logreg3 = smf.logit(\"fail_or_not ~ TIME_DIFFERENCE\",\n",
    "                          data = typical_day_vs_userfailures).fit()"
   ]
  },
  {
   "cell_type": "code",
   "execution_count": 71,
   "id": "11d11af4-6429-476f-9ce1-610d5714fbbb",
   "metadata": {},
   "outputs": [
    {
     "data": {
      "text/plain": [
       "Intercept         -1.724778e+00\n",
       "TIME_DIFFERENCE    1.670887e-09\n",
       "dtype: float64"
      ]
     },
     "execution_count": 71,
     "metadata": {},
     "output_type": "execute_result"
    }
   ],
   "source": [
    "tdvuf_logreg3.params"
   ]
  },
  {
   "cell_type": "code",
   "execution_count": 72,
   "id": "4ab20df5-4a86-44c4-9319-10225bee5ea8",
   "metadata": {},
   "outputs": [
    {
     "data": {
      "text/html": [
       "<table class=\"simpletable\">\n",
       "<caption>Logit Regression Results</caption>\n",
       "<tr>\n",
       "  <th>Dep. Variable:</th>      <td>fail_or_not</td>   <th>  No. Observations:  </th>  <td>  8922</td>  \n",
       "</tr>\n",
       "<tr>\n",
       "  <th>Model:</th>                 <td>Logit</td>      <th>  Df Residuals:      </th>  <td>  8920</td>  \n",
       "</tr>\n",
       "<tr>\n",
       "  <th>Method:</th>                 <td>MLE</td>       <th>  Df Model:          </th>  <td>     1</td>  \n",
       "</tr>\n",
       "<tr>\n",
       "  <th>Date:</th>            <td>Tue, 03 Dec 2024</td> <th>  Pseudo R-squ.:     </th> <td>0.0002011</td>\n",
       "</tr>\n",
       "<tr>\n",
       "  <th>Time:</th>                <td>00:56:35</td>     <th>  Log-Likelihood:    </th> <td> -3784.0</td> \n",
       "</tr>\n",
       "<tr>\n",
       "  <th>converged:</th>             <td>True</td>       <th>  LL-Null:           </th> <td> -3784.7</td> \n",
       "</tr>\n",
       "<tr>\n",
       "  <th>Covariance Type:</th>     <td>nonrobust</td>    <th>  LLR p-value:       </th>  <td>0.2172</td>  \n",
       "</tr>\n",
       "</table>\n",
       "<table class=\"simpletable\">\n",
       "<tr>\n",
       "         <td></td>            <th>coef</th>     <th>std err</th>      <th>z</th>      <th>P>|z|</th>  <th>[0.025</th>    <th>0.975]</th>  \n",
       "</tr>\n",
       "<tr>\n",
       "  <th>Intercept</th>       <td>   -1.7248</td> <td>    0.030</td> <td>  -58.117</td> <td> 0.000</td> <td>   -1.783</td> <td>   -1.667</td>\n",
       "</tr>\n",
       "<tr>\n",
       "  <th>TIME_DIFFERENCE</th> <td> 1.671e-09</td> <td> 1.57e-09</td> <td>    1.065</td> <td> 0.287</td> <td> -1.4e-09</td> <td> 4.75e-09</td>\n",
       "</tr>\n",
       "</table>"
      ],
      "text/latex": [
       "\\begin{center}\n",
       "\\begin{tabular}{lclc}\n",
       "\\toprule\n",
       "\\textbf{Dep. Variable:}   &  fail\\_or\\_not   & \\textbf{  No. Observations:  } &     8922    \\\\\n",
       "\\textbf{Model:}           &      Logit       & \\textbf{  Df Residuals:      } &     8920    \\\\\n",
       "\\textbf{Method:}          &       MLE        & \\textbf{  Df Model:          } &        1    \\\\\n",
       "\\textbf{Date:}            & Tue, 03 Dec 2024 & \\textbf{  Pseudo R-squ.:     } & 0.0002011   \\\\\n",
       "\\textbf{Time:}            &     00:56:35     & \\textbf{  Log-Likelihood:    } &   -3784.0   \\\\\n",
       "\\textbf{converged:}       &       True       & \\textbf{  LL-Null:           } &   -3784.7   \\\\\n",
       "\\textbf{Covariance Type:} &    nonrobust     & \\textbf{  LLR p-value:       } &   0.2172    \\\\\n",
       "\\bottomrule\n",
       "\\end{tabular}\n",
       "\\begin{tabular}{lcccccc}\n",
       "                          & \\textbf{coef} & \\textbf{std err} & \\textbf{z} & \\textbf{P$> |$z$|$} & \\textbf{[0.025} & \\textbf{0.975]}  \\\\\n",
       "\\midrule\n",
       "\\textbf{Intercept}        &      -1.7248  &        0.030     &   -58.117  &         0.000        &       -1.783    &       -1.667     \\\\\n",
       "\\textbf{TIME\\_DIFFERENCE} &    1.671e-09  &     1.57e-09     &     1.065  &         0.287        &     -1.4e-09    &     4.75e-09     \\\\\n",
       "\\bottomrule\n",
       "\\end{tabular}\n",
       "%\\caption{Logit Regression Results}\n",
       "\\end{center}"
      ],
      "text/plain": [
       "<class 'statsmodels.iolib.summary.Summary'>\n",
       "\"\"\"\n",
       "                           Logit Regression Results                           \n",
       "==============================================================================\n",
       "Dep. Variable:            fail_or_not   No. Observations:                 8922\n",
       "Model:                          Logit   Df Residuals:                     8920\n",
       "Method:                           MLE   Df Model:                            1\n",
       "Date:                Tue, 03 Dec 2024   Pseudo R-squ.:               0.0002011\n",
       "Time:                        00:56:35   Log-Likelihood:                -3784.0\n",
       "converged:                       True   LL-Null:                       -3784.7\n",
       "Covariance Type:            nonrobust   LLR p-value:                    0.2172\n",
       "===================================================================================\n",
       "                      coef    std err          z      P>|z|      [0.025      0.975]\n",
       "-----------------------------------------------------------------------------------\n",
       "Intercept          -1.7248      0.030    -58.117      0.000      -1.783      -1.667\n",
       "TIME_DIFFERENCE  1.671e-09   1.57e-09      1.065      0.287    -1.4e-09    4.75e-09\n",
       "===================================================================================\n",
       "\"\"\""
      ]
     },
     "execution_count": 72,
     "metadata": {},
     "output_type": "execute_result"
    }
   ],
   "source": [
    "tdvuf_logreg3.summary()"
   ]
  },
  {
   "cell_type": "code",
   "execution_count": 73,
   "id": "9361d443-224c-4b1d-9be6-9ba9949e320f",
   "metadata": {},
   "outputs": [
    {
     "data": {
      "text/html": [
       "<div>\n",
       "<style scoped>\n",
       "    .dataframe tbody tr th:only-of-type {\n",
       "        vertical-align: middle;\n",
       "    }\n",
       "\n",
       "    .dataframe tbody tr th {\n",
       "        vertical-align: top;\n",
       "    }\n",
       "\n",
       "    .dataframe thead th {\n",
       "        text-align: right;\n",
       "    }\n",
       "</style>\n",
       "<table border=\"1\" class=\"dataframe\">\n",
       "  <thead>\n",
       "    <tr style=\"text-align: right;\">\n",
       "      <th></th>\n",
       "      <th>group</th>\n",
       "      <th>TIME_DIFFERENCE</th>\n",
       "      <th>eprob</th>\n",
       "    </tr>\n",
       "  </thead>\n",
       "  <tbody>\n",
       "    <tr>\n",
       "      <th>0</th>\n",
       "      <td>(-1908643633.001, 0.0]</td>\n",
       "      <td>-2.504347e+06</td>\n",
       "      <td>0.151026</td>\n",
       "    </tr>\n",
       "    <tr>\n",
       "      <th>1</th>\n",
       "      <td>(0.0, 258709401.0]</td>\n",
       "      <td>3.542082e+07</td>\n",
       "      <td>0.125000</td>\n",
       "    </tr>\n",
       "  </tbody>\n",
       "</table>\n",
       "</div>"
      ],
      "text/plain": [
       "                    group  TIME_DIFFERENCE     eprob\n",
       "0  (-1908643633.001, 0.0]    -2.504347e+06  0.151026\n",
       "1      (0.0, 258709401.0]     3.542082e+07  0.125000"
      ]
     },
     "execution_count": 73,
     "metadata": {},
     "output_type": "execute_result"
    }
   ],
   "source": [
    "tdvuf_summary3 = (\n",
    "    typical_day_vs_userfailures\n",
    "    .assign(group = pd.qcut(typical_day_vs_userfailures['TIME_DIFFERENCE'], \n",
    "                            q = 10, \n",
    "                            duplicates = 'drop'))\n",
    "    .groupby('group', observed = False)\n",
    "    [['TIME_DIFFERENCE', 'fail_or_not']]\n",
    "    .mean()\n",
    "    .reset_index()\n",
    "    .rename(columns = {'fail_or_not': 'eprob'})\n",
    ")\n",
    "tdvuf_summary3"
   ]
  },
  {
   "cell_type": "code",
   "execution_count": 136,
   "id": "1af0c6fc-17a0-46f5-bc98-33d2db9a5760",
   "metadata": {},
   "outputs": [
    {
     "data": {
      "text/html": [
       "<div>\n",
       "<style scoped>\n",
       "    .dataframe tbody tr th:only-of-type {\n",
       "        vertical-align: middle;\n",
       "    }\n",
       "\n",
       "    .dataframe tbody tr th {\n",
       "        vertical-align: top;\n",
       "    }\n",
       "\n",
       "    .dataframe thead th {\n",
       "        text-align: right;\n",
       "    }\n",
       "</style>\n",
       "<table border=\"1\" class=\"dataframe\">\n",
       "  <thead>\n",
       "    <tr style=\"text-align: right;\">\n",
       "      <th></th>\n",
       "      <th>group</th>\n",
       "      <th>TIME_DIFFERENCE</th>\n",
       "      <th>eprob</th>\n",
       "      <th>fit_prob</th>\n",
       "    </tr>\n",
       "  </thead>\n",
       "  <tbody>\n",
       "    <tr>\n",
       "      <th>0</th>\n",
       "      <td>(-1908643633.001, 0.0]</td>\n",
       "      <td>-2.504347e+06</td>\n",
       "      <td>0.151026</td>\n",
       "      <td>0.150720</td>\n",
       "    </tr>\n",
       "    <tr>\n",
       "      <th>1</th>\n",
       "      <td>(0.0, 258709401.0]</td>\n",
       "      <td>3.542082e+07</td>\n",
       "      <td>0.125000</td>\n",
       "      <td>0.159013</td>\n",
       "    </tr>\n",
       "  </tbody>\n",
       "</table>\n",
       "</div>"
      ],
      "text/plain": [
       "                    group  TIME_DIFFERENCE     eprob  fit_prob\n",
       "0  (-1908643633.001, 0.0]    -2.504347e+06  0.151026  0.150720\n",
       "1      (0.0, 258709401.0]     3.542082e+07  0.125000  0.159013"
      ]
     },
     "execution_count": 136,
     "metadata": {},
     "output_type": "execute_result"
    }
   ],
   "source": [
    "tdvuf_summary3['fit_prob'] = tdvuf_logreg3.predict(tdvuf_summary3[['TIME_DIFFERENCE']])\n",
    "tdvuf_summary3"
   ]
  },
  {
   "cell_type": "code",
   "execution_count": 138,
   "id": "db2ccb72-99bf-4b23-bafa-4e97a55cee7d",
   "metadata": {},
   "outputs": [
    {
     "data": {
      "image/png": "[encoded data removed]",
      "text/plain": [
       "<Figure size 640x480 with 1 Axes>"
      ]
     },
     "metadata": {},
     "output_type": "display_data"
    }
   ],
   "source": [
    "ax = tdvuf_summary3.plot(x = 'TIME_DIFFERENCE', y = 'eprob')\n",
    "tdvuf_summary3.plot(x = 'TIME_DIFFERENCE', y = 'fit_prob',\n",
    "                color = 'black',\n",
    "                ax = ax);"
   ]
  },
  {
   "cell_type": "markdown",
   "id": "35908dc9-0f83-4bee-b5b9-117e8f6b40df",
   "metadata": {},
   "source": [
    "<h5>Looking at specific dates</h5>"
   ]
  },
  {
   "cell_type": "code",
   "execution_count": null,
   "id": "6568ba84-04f9-4ed1-be60-5e336a758ed8",
   "metadata": {},
   "outputs": [],
   "source": [
    "typical_day_vs_userfailures.loc[datetime.date(2020,12,4)]"
   ]
  },
  {
   "cell_type": "code",
   "execution_count": null,
   "id": "998f36a5-595e-47b0-8da9-6f9247d9fd8a",
   "metadata": {},
   "outputs": [],
   "source": [
    "typical_day_vs_userfailures.loc[datetime.date(2021,3,23)]"
   ]
  },
  {
   "cell_type": "code",
   "execution_count": null,
   "id": "52274c1c-2859-4b4d-8e16-1e3ad5f255c6",
   "metadata": {},
   "outputs": [],
   "source": [
    "typical_day_vs_userfailures.describe()"
   ]
  },
  {
   "cell_type": "code",
   "execution_count": null,
   "id": "03f254da-cc5f-4803-bf90-bf1c3a2061d5",
   "metadata": {},
   "outputs": [],
   "source": [
    "typical_day_vs_userfailures.shape"
   ]
  },
  {
   "cell_type": "code",
   "execution_count": null,
   "id": "0ef8a04a-0a37-429a-a060-b716d76faa0b",
   "metadata": {},
   "outputs": [],
   "source": [
    "typical_day_vs_userfailures"
   ]
  },
  {
   "cell_type": "markdown",
   "id": "caa920c1-2162-466e-af5b-bc3fc53de626",
   "metadata": {},
   "source": [
    "## Other Misc Work"
   ]
  },
  {
   "cell_type": "code",
   "execution_count": null,
   "id": "4a681ac3-517d-4d8c-be05-e1c00f1ac322",
   "metadata": {},
   "outputs": [],
   "source": [
    "display(high_failures_df['END'].value_counts().nunique())\n",
    "display(low_failures_df['END'].value_counts().nunique())"
   ]
  },
  {
   "cell_type": "code",
   "execution_count": null,
   "id": "5f2d71c0-e681-40d6-a552-d8bbaa4a8a86",
   "metadata": {},
   "outputs": [],
   "source": [
    "jobs_by_month = jobs_filtered.groupby(jobs_filtered['END'].dt.month)['JOBID'].count().reset_index()"
   ]
  },
  {
   "cell_type": "code",
   "execution_count": null,
   "id": "f938e890-8b85-453b-8f06-d0a8a9fac03b",
   "metadata": {},
   "outputs": [],
   "source": [
    "jobs_by_month"
   ]
  },
  {
   "cell_type": "code",
   "execution_count": null,
   "id": "431ddf61-5d02-4e73-9c28-1f19c2c6a95f",
   "metadata": {},
   "outputs": [],
   "source": [
    "jobs_by_month.describe()"
   ]
  },
  {
   "cell_type": "code",
   "execution_count": null,
   "id": "12d9c5ab-c4d0-426d-ad8b-754b53082cec",
   "metadata": {},
   "outputs": [],
   "source": [
    "jobs_filtered.head(2)"
   ]
  },
  {
   "cell_type": "code",
   "execution_count": null,
   "id": "aa09c694-a3cf-470c-9749-da7dc0d9ba5d",
   "metadata": {},
   "outputs": [],
   "source": [
    "jobs_filtered['END'].dt.hour"
   ]
  },
  {
   "cell_type": "code",
   "execution_count": null,
   "id": "f4f781c9-e6b8-418a-8e91-451ba2439637",
   "metadata": {},
   "outputs": [],
   "source": []
  },
  {
   "cell_type": "code",
   "execution_count": null,
   "id": "b306aafe-ecbd-4fcf-b57a-61ed03e050a0",
   "metadata": {},
   "outputs": [],
   "source": []
  },
  {
   "cell_type": "code",
   "execution_count": null,
   "id": "c9cf7198-4538-46df-a31d-7fee38a07a6d",
   "metadata": {},
   "outputs": [],
   "source": []
  },
  {
   "cell_type": "code",
   "execution_count": null,
   "id": "a059681c-02f9-43a0-9c9f-b3497073c6be",
   "metadata": {},
   "outputs": [],
   "source": [
    "typical_minute_count = jobs_filtered.groupby([jobs_filtered['END'].dt.date, jobs_filtered['END'].dt.hour, jobs_filtered['END'].dt.minute]).agg({'JOBID':'count'})\n",
    "typical_minute_count.index.names = ['Date', 'Hour','Minute']"
   ]
  },
  {
   "cell_type": "code",
   "execution_count": null,
   "id": "796a2568-e107-4993-bfe4-a09d545bff2b",
   "metadata": {},
   "outputs": [],
   "source": [
    "typical_minute_count"
   ]
  },
  {
   "cell_type": "code",
   "execution_count": null,
   "id": "566d25df-04d7-4052-805d-2247d9257d43",
   "metadata": {},
   "outputs": [],
   "source": [
    "typical_minute_count.describe()"
   ]
  },
  {
   "cell_type": "code",
   "execution_count": null,
   "id": "9fbb672a-4b40-40d6-85a2-4272a55cdce8",
   "metadata": {},
   "outputs": [],
   "source": [
    "typical_minute_count[typical_minute_count['JOBID'] == typical_minute_count['JOBID'].max()]"
   ]
  },
  {
   "cell_type": "code",
   "execution_count": null,
   "id": "42eaa353-1436-469f-8f49-9510b6b3c2fc",
   "metadata": {
    "scrolled": true
   },
   "outputs": [],
   "source": [
    "dec_fourth = typical_minute_count.loc[datetime.date(2020,12,4)]\n",
    "dec_fourth.loc[10]"
   ]
  },
  {
   "cell_type": "code",
   "execution_count": null,
   "id": "4a653042-6a83-42ca-88cf-a21f5bd7b27c",
   "metadata": {},
   "outputs": [],
   "source": []
  }
 ],
 "metadata": {
  "kernelspec": {
   "display_name": "Python 3 (ipykernel)",
   "language": "python",
   "name": "python3"
  },
  "language_info": {
   "codemirror_mode": {
    "name": "ipython",
    "version": 3
   },
   "file_extension": ".py",
   "mimetype": "text/x-python",
   "name": "python",
   "nbconvert_exporter": "python",
   "pygments_lexer": "ipython3",
   "version": "3.12.3"
  }
 },
 "nbformat": 4,
 "nbformat_minor": 5
}
